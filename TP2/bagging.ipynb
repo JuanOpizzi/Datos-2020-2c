{
 "cells": [
  {
   "cell_type": "markdown",
   "metadata": {},
   "source": [
    "# Bagging"
   ]
  },
  {
   "cell_type": "code",
   "execution_count": 143,
   "metadata": {},
   "outputs": [],
   "source": [
    "from preprocessing import *\n",
    "from aux import *\n",
    "import matplotlib\n",
    "#np.warnings.filterwarnings('ignore')\n",
    "\n",
    "from sklearn.tree import DecisionTreeClassifier, plot_tree\n",
    "from sklearn.ensemble import BaggingClassifier\n",
    "\n",
    "sns.set()\n",
    "\n",
    "df_data = pd.read_csv('https://drive.google.com/uc?export=download&id=1i-KJ2lSvM7OQH0Yd59bX01VoZcq8Sglq')\n",
    "df_decision = pd.read_csv('https://drive.google.com/uc?export=download&id=1km-AEIMnWVGqMtK-W28n59hqS5Kufhd0')"
   ]
  },
  {
   "cell_type": "markdown",
   "metadata": {},
   "source": [
    "## Preprocesado 1"
   ]
  },
  {
   "cell_type": "code",
   "execution_count": 144,
   "metadata": {},
   "outputs": [],
   "source": [
    "columnillas = ['tipo_de_sala_4d', 'tipo_de_sala_normal', 'tipo_de_sala_nan', 'id_usuario', 'genero_mujer', 'genero_nan', \n",
    "              'edad', 'amigos', 'parientes', \n",
    "              'nombre_sede_fiumark_palermo', 'nombre_sede_fiumark_quilmes', 'nombre_sede_nan']"
   ]
  },
  {
   "cell_type": "code",
   "execution_count": 145,
   "metadata": {},
   "outputs": [],
   "source": [
    "def preprocesado_1(dataset, columnas):\n",
    "    df = eliminar_features_que_no_aportan_info(dataset, True)\n",
    "    df = eliminar_features(df, ['precio_ticket'])\n",
    "    df = replace_nulls_column(df, 'edad', 'mediana')\n",
    "    columnas_a_encodear = ['tipo_de_sala', 'genero', 'nombre_sede']\n",
    "    df = encodear_atributos_categoricos(df, columnas_a_encodear)\n",
    "    df = df.reindex(columns = columnas)\n",
    "    return df"
   ]
  },
  {
   "cell_type": "code",
   "execution_count": 146,
   "metadata": {},
   "outputs": [],
   "source": [
    "volver = ['volveria']\n",
    "columnas = columnillas + volver"
   ]
  },
  {
   "cell_type": "code",
   "execution_count": 147,
   "metadata": {},
   "outputs": [
    {
     "data": {
      "text/html": [
       "<div>\n",
       "<style scoped>\n",
       "    .dataframe tbody tr th:only-of-type {\n",
       "        vertical-align: middle;\n",
       "    }\n",
       "\n",
       "    .dataframe tbody tr th {\n",
       "        vertical-align: top;\n",
       "    }\n",
       "\n",
       "    .dataframe thead th {\n",
       "        text-align: right;\n",
       "    }\n",
       "</style>\n",
       "<table border=\"1\" class=\"dataframe\">\n",
       "  <thead>\n",
       "    <tr style=\"text-align: right;\">\n",
       "      <th></th>\n",
       "      <th>tipo_de_sala_4d</th>\n",
       "      <th>tipo_de_sala_normal</th>\n",
       "      <th>tipo_de_sala_nan</th>\n",
       "      <th>id_usuario</th>\n",
       "      <th>genero_mujer</th>\n",
       "      <th>genero_nan</th>\n",
       "      <th>edad</th>\n",
       "      <th>amigos</th>\n",
       "      <th>parientes</th>\n",
       "      <th>nombre_sede_fiumark_palermo</th>\n",
       "      <th>nombre_sede_fiumark_quilmes</th>\n",
       "      <th>nombre_sede_nan</th>\n",
       "      <th>volveria</th>\n",
       "    </tr>\n",
       "  </thead>\n",
       "  <tbody>\n",
       "    <tr>\n",
       "      <th>0</th>\n",
       "      <td>1</td>\n",
       "      <td>0</td>\n",
       "      <td>0</td>\n",
       "      <td>117</td>\n",
       "      <td>0</td>\n",
       "      <td>0</td>\n",
       "      <td>73.5</td>\n",
       "      <td>0</td>\n",
       "      <td>0</td>\n",
       "      <td>0</td>\n",
       "      <td>1</td>\n",
       "      <td>0</td>\n",
       "      <td>0</td>\n",
       "    </tr>\n",
       "    <tr>\n",
       "      <th>1</th>\n",
       "      <td>1</td>\n",
       "      <td>0</td>\n",
       "      <td>0</td>\n",
       "      <td>658</td>\n",
       "      <td>1</td>\n",
       "      <td>0</td>\n",
       "      <td>35.0</td>\n",
       "      <td>1</td>\n",
       "      <td>1</td>\n",
       "      <td>0</td>\n",
       "      <td>1</td>\n",
       "      <td>0</td>\n",
       "      <td>0</td>\n",
       "    </tr>\n",
       "    <tr>\n",
       "      <th>2</th>\n",
       "      <td>0</td>\n",
       "      <td>1</td>\n",
       "      <td>0</td>\n",
       "      <td>794</td>\n",
       "      <td>0</td>\n",
       "      <td>0</td>\n",
       "      <td>31.0</td>\n",
       "      <td>0</td>\n",
       "      <td>0</td>\n",
       "      <td>0</td>\n",
       "      <td>0</td>\n",
       "      <td>0</td>\n",
       "      <td>0</td>\n",
       "    </tr>\n",
       "    <tr>\n",
       "      <th>3</th>\n",
       "      <td>1</td>\n",
       "      <td>0</td>\n",
       "      <td>0</td>\n",
       "      <td>455</td>\n",
       "      <td>0</td>\n",
       "      <td>0</td>\n",
       "      <td>31.0</td>\n",
       "      <td>0</td>\n",
       "      <td>0</td>\n",
       "      <td>1</td>\n",
       "      <td>0</td>\n",
       "      <td>0</td>\n",
       "      <td>0</td>\n",
       "    </tr>\n",
       "    <tr>\n",
       "      <th>4</th>\n",
       "      <td>1</td>\n",
       "      <td>0</td>\n",
       "      <td>0</td>\n",
       "      <td>173</td>\n",
       "      <td>1</td>\n",
       "      <td>0</td>\n",
       "      <td>4.0</td>\n",
       "      <td>1</td>\n",
       "      <td>1</td>\n",
       "      <td>1</td>\n",
       "      <td>0</td>\n",
       "      <td>0</td>\n",
       "      <td>1</td>\n",
       "    </tr>\n",
       "  </tbody>\n",
       "</table>\n",
       "</div>"
      ],
      "text/plain": [
       "   tipo_de_sala_4d  tipo_de_sala_normal  tipo_de_sala_nan  id_usuario  \\\n",
       "0                1                    0                 0         117   \n",
       "1                1                    0                 0         658   \n",
       "2                0                    1                 0         794   \n",
       "3                1                    0                 0         455   \n",
       "4                1                    0                 0         173   \n",
       "\n",
       "   genero_mujer  genero_nan  edad  amigos  parientes  \\\n",
       "0             0           0  73.5       0          0   \n",
       "1             1           0  35.0       1          1   \n",
       "2             0           0  31.0       0          0   \n",
       "3             0           0  31.0       0          0   \n",
       "4             1           0   4.0       1          1   \n",
       "\n",
       "   nombre_sede_fiumark_palermo  nombre_sede_fiumark_quilmes  nombre_sede_nan  \\\n",
       "0                            0                            1                0   \n",
       "1                            0                            1                0   \n",
       "2                            0                            0                0   \n",
       "3                            1                            0                0   \n",
       "4                            1                            0                0   \n",
       "\n",
       "   volveria  \n",
       "0         0  \n",
       "1         0  \n",
       "2         0  \n",
       "3         0  \n",
       "4         1  "
      ]
     },
     "execution_count": 147,
     "metadata": {},
     "output_type": "execute_result"
    }
   ],
   "source": [
    "dataset = pd.merge(df_data, df_decision, how='inner', left_on='id_usuario', right_on='id_usuario')\n",
    "\n",
    "df = preprocesado_1(dataset, columnas)\n",
    "\n",
    "df.head()"
   ]
  },
  {
   "cell_type": "code",
   "execution_count": 148,
   "metadata": {},
   "outputs": [
    {
     "data": {
      "text/plain": [
       "(801, 13)"
      ]
     },
     "execution_count": 148,
     "metadata": {},
     "output_type": "execute_result"
    }
   ],
   "source": [
    "df.shape"
   ]
  },
  {
   "cell_type": "markdown",
   "metadata": {},
   "source": [
    "# Entrenamiento"
   ]
  },
  {
   "cell_type": "code",
   "execution_count": 149,
   "metadata": {},
   "outputs": [
    {
     "name": "stdout",
     "output_type": "stream",
     "text": [
      "X.shape:  (801, 12)\n",
      "y.shape:  (801,) \n",
      "\n",
      "Best score: 0.8502937720329026\n",
      "Best params {'n_estimators': 46, 'max_samples': 27, 'max_features': 11}\n",
      "\n",
      "Fold 0: AUC ROC score is 0.7208\n",
      "Fold 1: AUC ROC score is 0.7062\n",
      "Fold 2: AUC ROC score is 0.7881\n",
      "Fold 3: AUC ROC score is 0.7351\n",
      "Fold 4: AUC ROC score is 0.7288\n",
      "Mean test AUC ROC is: 0.7358\n"
     ]
    }
   ],
   "source": [
    "X, y = split_dataset_X_y(df, columnillas)\n",
    "\n",
    "params = {'max_samples': np.arange(1, 50), \n",
    "          'max_features': np.arange(1, 12),\n",
    "          'n_estimators': np.arange(1, 50),\n",
    "         }\n",
    "\n",
    "model_bagging = BaggingClassifier(\n",
    "    base_estimator = DecisionTreeClassifier(max_depth=3, min_samples_leaf=10,random_state=117, criterion=\"entropy\"),\n",
    "    random_state = 117\n",
    ")\n",
    "\n",
    "best_params, X_train, X_test, y_train, y_test = fit_model_random_grid_search (X, y, model_bagging, params)\n",
    "\n",
    "bagging = BaggingClassifier(\n",
    "    base_estimator = DecisionTreeClassifier(max_depth=3, min_samples_leaf=10,random_state=117,criterion=\"entropy\"),\n",
    "    random_state=117,\n",
    "    n_estimators = best_params['n_estimators'],\n",
    "    max_samples = best_params['max_samples'],\n",
    "    max_features = best_params['max_features']\n",
    ")\n",
    "\n",
    "bagging = apply_stratified_k_fold(X, y, bagging)"
   ]
  },
  {
   "cell_type": "code",
   "execution_count": 150,
   "metadata": {},
   "outputs": [
    {
     "data": {
      "text/html": [
       "<div>\n",
       "<style scoped>\n",
       "    .dataframe tbody tr th:only-of-type {\n",
       "        vertical-align: middle;\n",
       "    }\n",
       "\n",
       "    .dataframe tbody tr th {\n",
       "        vertical-align: top;\n",
       "    }\n",
       "\n",
       "    .dataframe thead th {\n",
       "        text-align: right;\n",
       "    }\n",
       "</style>\n",
       "<table border=\"1\" class=\"dataframe\">\n",
       "  <thead>\n",
       "    <tr style=\"text-align: right;\">\n",
       "      <th></th>\n",
       "      <th>tipo_de_sala_4d</th>\n",
       "      <th>tipo_de_sala_normal</th>\n",
       "      <th>tipo_de_sala_nan</th>\n",
       "      <th>id_usuario</th>\n",
       "      <th>genero_mujer</th>\n",
       "      <th>genero_nan</th>\n",
       "      <th>edad</th>\n",
       "      <th>amigos</th>\n",
       "      <th>parientes</th>\n",
       "      <th>nombre_sede_fiumark_palermo</th>\n",
       "      <th>nombre_sede_fiumark_quilmes</th>\n",
       "      <th>nombre_sede_nan</th>\n",
       "    </tr>\n",
       "  </thead>\n",
       "  <tbody>\n",
       "    <tr>\n",
       "      <th>0</th>\n",
       "      <td>1</td>\n",
       "      <td>0</td>\n",
       "      <td>0</td>\n",
       "      <td>117</td>\n",
       "      <td>0</td>\n",
       "      <td>0</td>\n",
       "      <td>73.5</td>\n",
       "      <td>0</td>\n",
       "      <td>0</td>\n",
       "      <td>0</td>\n",
       "      <td>1</td>\n",
       "      <td>0</td>\n",
       "    </tr>\n",
       "    <tr>\n",
       "      <th>1</th>\n",
       "      <td>1</td>\n",
       "      <td>0</td>\n",
       "      <td>0</td>\n",
       "      <td>658</td>\n",
       "      <td>1</td>\n",
       "      <td>0</td>\n",
       "      <td>35.0</td>\n",
       "      <td>1</td>\n",
       "      <td>1</td>\n",
       "      <td>0</td>\n",
       "      <td>1</td>\n",
       "      <td>0</td>\n",
       "    </tr>\n",
       "    <tr>\n",
       "      <th>2</th>\n",
       "      <td>0</td>\n",
       "      <td>1</td>\n",
       "      <td>0</td>\n",
       "      <td>794</td>\n",
       "      <td>0</td>\n",
       "      <td>0</td>\n",
       "      <td>31.0</td>\n",
       "      <td>0</td>\n",
       "      <td>0</td>\n",
       "      <td>0</td>\n",
       "      <td>0</td>\n",
       "      <td>0</td>\n",
       "    </tr>\n",
       "    <tr>\n",
       "      <th>3</th>\n",
       "      <td>1</td>\n",
       "      <td>0</td>\n",
       "      <td>0</td>\n",
       "      <td>455</td>\n",
       "      <td>0</td>\n",
       "      <td>0</td>\n",
       "      <td>31.0</td>\n",
       "      <td>0</td>\n",
       "      <td>0</td>\n",
       "      <td>1</td>\n",
       "      <td>0</td>\n",
       "      <td>0</td>\n",
       "    </tr>\n",
       "    <tr>\n",
       "      <th>4</th>\n",
       "      <td>1</td>\n",
       "      <td>0</td>\n",
       "      <td>0</td>\n",
       "      <td>173</td>\n",
       "      <td>1</td>\n",
       "      <td>0</td>\n",
       "      <td>4.0</td>\n",
       "      <td>1</td>\n",
       "      <td>1</td>\n",
       "      <td>1</td>\n",
       "      <td>0</td>\n",
       "      <td>0</td>\n",
       "    </tr>\n",
       "  </tbody>\n",
       "</table>\n",
       "</div>"
      ],
      "text/plain": [
       "   tipo_de_sala_4d  tipo_de_sala_normal  tipo_de_sala_nan  id_usuario  \\\n",
       "0                1                    0                 0         117   \n",
       "1                1                    0                 0         658   \n",
       "2                0                    1                 0         794   \n",
       "3                1                    0                 0         455   \n",
       "4                1                    0                 0         173   \n",
       "\n",
       "   genero_mujer  genero_nan  edad  amigos  parientes  \\\n",
       "0             0           0  73.5       0          0   \n",
       "1             1           0  35.0       1          1   \n",
       "2             0           0  31.0       0          0   \n",
       "3             0           0  31.0       0          0   \n",
       "4             1           0   4.0       1          1   \n",
       "\n",
       "   nombre_sede_fiumark_palermo  nombre_sede_fiumark_quilmes  nombre_sede_nan  \n",
       "0                            0                            1                0  \n",
       "1                            0                            1                0  \n",
       "2                            0                            0                0  \n",
       "3                            1                            0                0  \n",
       "4                            1                            0                0  "
      ]
     },
     "execution_count": 150,
     "metadata": {},
     "output_type": "execute_result"
    }
   ],
   "source": [
    "X.head()"
   ]
  },
  {
   "cell_type": "code",
   "execution_count": 151,
   "metadata": {},
   "outputs": [
    {
     "data": {
      "text/plain": [
       "0    0\n",
       "1    0\n",
       "2    0\n",
       "3    0\n",
       "4    1\n",
       "Name: volveria, dtype: int64"
      ]
     },
     "execution_count": 151,
     "metadata": {},
     "output_type": "execute_result"
    }
   ],
   "source": [
    "y.head()"
   ]
  },
  {
   "cell_type": "code",
   "execution_count": 152,
   "metadata": {},
   "outputs": [
    {
     "data": {
      "text/plain": [
       "307"
      ]
     },
     "execution_count": 152,
     "metadata": {},
     "output_type": "execute_result"
    }
   ],
   "source": [
    "y.sum()"
   ]
  },
  {
   "cell_type": "code",
   "execution_count": 153,
   "metadata": {},
   "outputs": [
    {
     "data": {
      "text/plain": [
       "0    370\n",
       "1    230\n",
       "Name: volveria, dtype: int64"
      ]
     },
     "execution_count": 153,
     "metadata": {},
     "output_type": "execute_result"
    }
   ],
   "source": [
    "y_train.value_counts()"
   ]
  },
  {
   "cell_type": "code",
   "execution_count": 154,
   "metadata": {},
   "outputs": [
    {
     "data": {
      "text/plain": [
       "0    124\n",
       "1     77\n",
       "Name: volveria, dtype: int64"
      ]
     },
     "execution_count": 154,
     "metadata": {},
     "output_type": "execute_result"
    }
   ],
   "source": [
    "y_test.value_counts()"
   ]
  },
  {
   "cell_type": "markdown",
   "metadata": {},
   "source": [
    "## Métricas"
   ]
  },
  {
   "cell_type": "code",
   "execution_count": 155,
   "metadata": {},
   "outputs": [
    {
     "name": "stdout",
     "output_type": "stream",
     "text": [
      "AUC ROC : 0.8027\n",
      "Accuracy : 0.7811\n",
      "Precision : 1.0000\n",
      "Recall : 1.0000\n",
      "F1-Score : 0.6000\n"
     ]
    }
   ],
   "source": [
    "scores = get_scores(bagging, X_test, y_test)"
   ]
  },
  {
   "cell_type": "markdown",
   "metadata": {},
   "source": [
    "### Matriz de confusión"
   ]
  },
  {
   "cell_type": "code",
   "execution_count": 156,
   "metadata": {},
   "outputs": [
    {
     "name": "stderr",
     "output_type": "stream",
     "text": [
      "/home/anarella/.local/lib/python3.6/site-packages/sklearn/utils/validation.py:70: FutureWarning: Pass labels=[0, 1] as keyword args. From version 0.25 passing these as positional arguments will result in an error\n",
      "  FutureWarning)\n"
     ]
    },
    {
     "data": {
      "image/png": "[encoded data removed]",
      "text/plain": [
       "<Figure size 600x400 with 2 Axes>"
      ]
     },
     "metadata": {},
     "output_type": "display_data"
    }
   ],
   "source": [
    "plot_confusion_matrix(y_test, bagging.predict(X_test))"
   ]
  },
  {
   "cell_type": "markdown",
   "metadata": {},
   "source": [
    "## Test Holdout"
   ]
  },
  {
   "cell_type": "code",
   "execution_count": 157,
   "metadata": {},
   "outputs": [],
   "source": [
    "holdout = pd.read_csv('https://drive.google.com/uc?export=download&id=1I980-_K9iOucJO26SG5_M8RELOQ5VB6A')"
   ]
  },
  {
   "cell_type": "code",
   "execution_count": 158,
   "metadata": {},
   "outputs": [
    {
     "data": {
      "text/html": [
       "<div>\n",
       "<style scoped>\n",
       "    .dataframe tbody tr th:only-of-type {\n",
       "        vertical-align: middle;\n",
       "    }\n",
       "\n",
       "    .dataframe tbody tr th {\n",
       "        vertical-align: top;\n",
       "    }\n",
       "\n",
       "    .dataframe thead th {\n",
       "        text-align: right;\n",
       "    }\n",
       "</style>\n",
       "<table border=\"1\" class=\"dataframe\">\n",
       "  <thead>\n",
       "    <tr style=\"text-align: right;\">\n",
       "      <th></th>\n",
       "      <th>tipo_de_sala_4d</th>\n",
       "      <th>tipo_de_sala_normal</th>\n",
       "      <th>tipo_de_sala_nan</th>\n",
       "      <th>id_usuario</th>\n",
       "      <th>genero_mujer</th>\n",
       "      <th>genero_nan</th>\n",
       "      <th>edad</th>\n",
       "      <th>amigos</th>\n",
       "      <th>parientes</th>\n",
       "      <th>nombre_sede_fiumark_palermo</th>\n",
       "      <th>nombre_sede_fiumark_quilmes</th>\n",
       "      <th>nombre_sede_nan</th>\n",
       "    </tr>\n",
       "  </thead>\n",
       "  <tbody>\n",
       "    <tr>\n",
       "      <th>0</th>\n",
       "      <td>1</td>\n",
       "      <td>0</td>\n",
       "      <td>0</td>\n",
       "      <td>650</td>\n",
       "      <td>1</td>\n",
       "      <td>0</td>\n",
       "      <td>26.0</td>\n",
       "      <td>0</td>\n",
       "      <td>0</td>\n",
       "      <td>1</td>\n",
       "      <td>0</td>\n",
       "      <td>0</td>\n",
       "    </tr>\n",
       "    <tr>\n",
       "      <th>1</th>\n",
       "      <td>1</td>\n",
       "      <td>0</td>\n",
       "      <td>0</td>\n",
       "      <td>234</td>\n",
       "      <td>1</td>\n",
       "      <td>0</td>\n",
       "      <td>8.0</td>\n",
       "      <td>4</td>\n",
       "      <td>2</td>\n",
       "      <td>1</td>\n",
       "      <td>0</td>\n",
       "      <td>0</td>\n",
       "    </tr>\n",
       "    <tr>\n",
       "      <th>2</th>\n",
       "      <td>0</td>\n",
       "      <td>1</td>\n",
       "      <td>0</td>\n",
       "      <td>31</td>\n",
       "      <td>0</td>\n",
       "      <td>0</td>\n",
       "      <td>43.0</td>\n",
       "      <td>0</td>\n",
       "      <td>0</td>\n",
       "      <td>0</td>\n",
       "      <td>0</td>\n",
       "      <td>0</td>\n",
       "    </tr>\n",
       "    <tr>\n",
       "      <th>3</th>\n",
       "      <td>0</td>\n",
       "      <td>0</td>\n",
       "      <td>0</td>\n",
       "      <td>552</td>\n",
       "      <td>0</td>\n",
       "      <td>0</td>\n",
       "      <td>30.0</td>\n",
       "      <td>0</td>\n",
       "      <td>0</td>\n",
       "      <td>1</td>\n",
       "      <td>0</td>\n",
       "      <td>0</td>\n",
       "    </tr>\n",
       "    <tr>\n",
       "      <th>4</th>\n",
       "      <td>1</td>\n",
       "      <td>0</td>\n",
       "      <td>0</td>\n",
       "      <td>411</td>\n",
       "      <td>0</td>\n",
       "      <td>0</td>\n",
       "      <td>32.0</td>\n",
       "      <td>0</td>\n",
       "      <td>0</td>\n",
       "      <td>1</td>\n",
       "      <td>0</td>\n",
       "      <td>0</td>\n",
       "    </tr>\n",
       "  </tbody>\n",
       "</table>\n",
       "</div>"
      ],
      "text/plain": [
       "   tipo_de_sala_4d  tipo_de_sala_normal  tipo_de_sala_nan  id_usuario  \\\n",
       "0                1                    0                 0         650   \n",
       "1                1                    0                 0         234   \n",
       "2                0                    1                 0          31   \n",
       "3                0                    0                 0         552   \n",
       "4                1                    0                 0         411   \n",
       "\n",
       "   genero_mujer  genero_nan  edad  amigos  parientes  \\\n",
       "0             1           0  26.0       0          0   \n",
       "1             1           0   8.0       4          2   \n",
       "2             0           0  43.0       0          0   \n",
       "3             0           0  30.0       0          0   \n",
       "4             0           0  32.0       0          0   \n",
       "\n",
       "   nombre_sede_fiumark_palermo  nombre_sede_fiumark_quilmes  nombre_sede_nan  \n",
       "0                            1                            0                0  \n",
       "1                            1                            0                0  \n",
       "2                            0                            0                0  \n",
       "3                            1                            0                0  \n",
       "4                            1                            0                0  "
      ]
     },
     "execution_count": 158,
     "metadata": {},
     "output_type": "execute_result"
    }
   ],
   "source": [
    "df_h = preprocesado_1(holdout, columnillas)\n",
    "df_h.head()"
   ]
  },
  {
   "cell_type": "code",
   "execution_count": 159,
   "metadata": {},
   "outputs": [
    {
     "name": "stdout",
     "output_type": "stream",
     "text": [
      "y_pred.shape:  (90,)\n",
      "holdout_df.shape:  (90, 12) \n",
      "\n"
     ]
    },
    {
     "data": {
      "text/html": [
       "<div>\n",
       "<style scoped>\n",
       "    .dataframe tbody tr th:only-of-type {\n",
       "        vertical-align: middle;\n",
       "    }\n",
       "\n",
       "    .dataframe tbody tr th {\n",
       "        vertical-align: top;\n",
       "    }\n",
       "\n",
       "    .dataframe thead th {\n",
       "        text-align: right;\n",
       "    }\n",
       "</style>\n",
       "<table border=\"1\" class=\"dataframe\">\n",
       "  <thead>\n",
       "    <tr style=\"text-align: right;\">\n",
       "      <th></th>\n",
       "      <th>id_usuario</th>\n",
       "      <th>volveria</th>\n",
       "    </tr>\n",
       "  </thead>\n",
       "  <tbody>\n",
       "    <tr>\n",
       "      <th>0</th>\n",
       "      <td>650</td>\n",
       "      <td>0</td>\n",
       "    </tr>\n",
       "    <tr>\n",
       "      <th>1</th>\n",
       "      <td>234</td>\n",
       "      <td>0</td>\n",
       "    </tr>\n",
       "    <tr>\n",
       "      <th>2</th>\n",
       "      <td>31</td>\n",
       "      <td>0</td>\n",
       "    </tr>\n",
       "    <tr>\n",
       "      <th>3</th>\n",
       "      <td>552</td>\n",
       "      <td>0</td>\n",
       "    </tr>\n",
       "    <tr>\n",
       "      <th>4</th>\n",
       "      <td>411</td>\n",
       "      <td>0</td>\n",
       "    </tr>\n",
       "    <tr>\n",
       "      <th>5</th>\n",
       "      <td>134</td>\n",
       "      <td>1</td>\n",
       "    </tr>\n",
       "    <tr>\n",
       "      <th>6</th>\n",
       "      <td>497</td>\n",
       "      <td>1</td>\n",
       "    </tr>\n",
       "    <tr>\n",
       "      <th>7</th>\n",
       "      <td>434</td>\n",
       "      <td>0</td>\n",
       "    </tr>\n",
       "    <tr>\n",
       "      <th>8</th>\n",
       "      <td>528</td>\n",
       "      <td>0</td>\n",
       "    </tr>\n",
       "    <tr>\n",
       "      <th>9</th>\n",
       "      <td>112</td>\n",
       "      <td>0</td>\n",
       "    </tr>\n",
       "    <tr>\n",
       "      <th>10</th>\n",
       "      <td>276</td>\n",
       "      <td>1</td>\n",
       "    </tr>\n",
       "    <tr>\n",
       "      <th>11</th>\n",
       "      <td>446</td>\n",
       "      <td>0</td>\n",
       "    </tr>\n",
       "    <tr>\n",
       "      <th>12</th>\n",
       "      <td>138</td>\n",
       "      <td>0</td>\n",
       "    </tr>\n",
       "    <tr>\n",
       "      <th>13</th>\n",
       "      <td>233</td>\n",
       "      <td>0</td>\n",
       "    </tr>\n",
       "    <tr>\n",
       "      <th>14</th>\n",
       "      <td>457</td>\n",
       "      <td>0</td>\n",
       "    </tr>\n",
       "  </tbody>\n",
       "</table>\n",
       "</div>"
      ],
      "text/plain": [
       "    id_usuario  volveria\n",
       "0          650         0\n",
       "1          234         0\n",
       "2           31         0\n",
       "3          552         0\n",
       "4          411         0\n",
       "5          134         1\n",
       "6          497         1\n",
       "7          434         0\n",
       "8          528         0\n",
       "9          112         0\n",
       "10         276         1\n",
       "11         446         0\n",
       "12         138         0\n",
       "13         233         0\n",
       "14         457         0"
      ]
     },
     "execution_count": 159,
     "metadata": {},
     "output_type": "execute_result"
    }
   ],
   "source": [
    "df_resultado = evaluate_holdout(holdout, df_h, bagging)\n",
    "df_resultado.head(15)"
   ]
  },
  {
   "cell_type": "code",
   "execution_count": 160,
   "metadata": {},
   "outputs": [],
   "source": [
    "df_resultado.to_csv('prediccion/Bagging_resultado_final.csv')"
   ]
  },
  {
   "cell_type": "markdown",
   "metadata": {},
   "source": [
    "## Preprocesado 2"
   ]
  },
  {
   "cell_type": "code",
   "execution_count": 215,
   "metadata": {},
   "outputs": [],
   "source": [
    "columnas_nuevas = ['tipo_de_sala_4d', 'tipo_de_sala_normal', 'tipo_de_sala_nan', 'id_usuario', 'genero_mujer', 'genero_nan', \n",
    "              'edad', 'precio_ticket', 'amigos',\n",
    "              'nombre_sede_fiumark_palermo', 'nombre_sede_fiumark_quilmes', 'nombre_sede_nan', \n",
    "              'cant_acompañantes']"
   ]
  },
  {
   "cell_type": "code",
   "execution_count": 216,
   "metadata": {},
   "outputs": [],
   "source": [
    "def preprocesado_2(dataset, columnas):\n",
    "    df = eliminar_features_que_no_aportan_info(dataset, True)\n",
    "    df = crear_feature_acompañantes(df)\n",
    "    df = eliminar_features(df, ['parientes'])\n",
    "    df = replace_nulls_column(df, 'edad', 'mediana')\n",
    "    columnas_a_encodear = ['tipo_de_sala', 'genero', 'nombre_sede']\n",
    "    df = encodear_atributos_categoricos(df, columnas_a_encodear)\n",
    "    df = normalizar_atributos_numericos(df)\n",
    "    df = df.reindex(columns = columnas)\n",
    "    return df"
   ]
  },
  {
   "cell_type": "code",
   "execution_count": 217,
   "metadata": {},
   "outputs": [],
   "source": [
    "columnas_2 = columnas_nuevas + volver"
   ]
  },
  {
   "cell_type": "code",
   "execution_count": 218,
   "metadata": {},
   "outputs": [
    {
     "data": {
      "text/html": [
       "<div>\n",
       "<style scoped>\n",
       "    .dataframe tbody tr th:only-of-type {\n",
       "        vertical-align: middle;\n",
       "    }\n",
       "\n",
       "    .dataframe tbody tr th {\n",
       "        vertical-align: top;\n",
       "    }\n",
       "\n",
       "    .dataframe thead th {\n",
       "        text-align: right;\n",
       "    }\n",
       "</style>\n",
       "<table border=\"1\" class=\"dataframe\">\n",
       "  <thead>\n",
       "    <tr style=\"text-align: right;\">\n",
       "      <th></th>\n",
       "      <th>tipo_de_sala_4d</th>\n",
       "      <th>tipo_de_sala_normal</th>\n",
       "      <th>tipo_de_sala_nan</th>\n",
       "      <th>id_usuario</th>\n",
       "      <th>genero_mujer</th>\n",
       "      <th>genero_nan</th>\n",
       "      <th>edad</th>\n",
       "      <th>precio_ticket</th>\n",
       "      <th>amigos</th>\n",
       "      <th>nombre_sede_fiumark_palermo</th>\n",
       "      <th>nombre_sede_fiumark_quilmes</th>\n",
       "      <th>nombre_sede_nan</th>\n",
       "      <th>cant_acompañantes</th>\n",
       "      <th>volveria</th>\n",
       "    </tr>\n",
       "  </thead>\n",
       "  <tbody>\n",
       "    <tr>\n",
       "      <th>0</th>\n",
       "      <td>1</td>\n",
       "      <td>0</td>\n",
       "      <td>0</td>\n",
       "      <td>0.130337</td>\n",
       "      <td>0</td>\n",
       "      <td>0</td>\n",
       "      <td>0.880653</td>\n",
       "      <td>0.000000</td>\n",
       "      <td>0.000</td>\n",
       "      <td>0</td>\n",
       "      <td>1</td>\n",
       "      <td>0</td>\n",
       "      <td>0.0</td>\n",
       "      <td>0.0</td>\n",
       "    </tr>\n",
       "    <tr>\n",
       "      <th>1</th>\n",
       "      <td>1</td>\n",
       "      <td>0</td>\n",
       "      <td>0</td>\n",
       "      <td>0.738202</td>\n",
       "      <td>1</td>\n",
       "      <td>0</td>\n",
       "      <td>0.396985</td>\n",
       "      <td>0.020408</td>\n",
       "      <td>0.125</td>\n",
       "      <td>0</td>\n",
       "      <td>1</td>\n",
       "      <td>0</td>\n",
       "      <td>0.2</td>\n",
       "      <td>0.0</td>\n",
       "    </tr>\n",
       "    <tr>\n",
       "      <th>2</th>\n",
       "      <td>0</td>\n",
       "      <td>1</td>\n",
       "      <td>0</td>\n",
       "      <td>0.891011</td>\n",
       "      <td>0</td>\n",
       "      <td>0</td>\n",
       "      <td>0.346734</td>\n",
       "      <td>0.040816</td>\n",
       "      <td>0.000</td>\n",
       "      <td>0</td>\n",
       "      <td>0</td>\n",
       "      <td>0</td>\n",
       "      <td>0.0</td>\n",
       "      <td>0.0</td>\n",
       "    </tr>\n",
       "    <tr>\n",
       "      <th>3</th>\n",
       "      <td>1</td>\n",
       "      <td>0</td>\n",
       "      <td>0</td>\n",
       "      <td>0.510112</td>\n",
       "      <td>0</td>\n",
       "      <td>0</td>\n",
       "      <td>0.346734</td>\n",
       "      <td>0.000000</td>\n",
       "      <td>0.000</td>\n",
       "      <td>1</td>\n",
       "      <td>0</td>\n",
       "      <td>0</td>\n",
       "      <td>0.0</td>\n",
       "      <td>0.0</td>\n",
       "    </tr>\n",
       "    <tr>\n",
       "      <th>4</th>\n",
       "      <td>1</td>\n",
       "      <td>0</td>\n",
       "      <td>0</td>\n",
       "      <td>0.193258</td>\n",
       "      <td>1</td>\n",
       "      <td>0</td>\n",
       "      <td>0.007538</td>\n",
       "      <td>0.020408</td>\n",
       "      <td>0.125</td>\n",
       "      <td>1</td>\n",
       "      <td>0</td>\n",
       "      <td>0</td>\n",
       "      <td>0.2</td>\n",
       "      <td>1.0</td>\n",
       "    </tr>\n",
       "  </tbody>\n",
       "</table>\n",
       "</div>"
      ],
      "text/plain": [
       "   tipo_de_sala_4d  tipo_de_sala_normal  tipo_de_sala_nan  id_usuario  \\\n",
       "0                1                    0                 0    0.130337   \n",
       "1                1                    0                 0    0.738202   \n",
       "2                0                    1                 0    0.891011   \n",
       "3                1                    0                 0    0.510112   \n",
       "4                1                    0                 0    0.193258   \n",
       "\n",
       "   genero_mujer  genero_nan      edad  precio_ticket  amigos  \\\n",
       "0             0           0  0.880653       0.000000   0.000   \n",
       "1             1           0  0.396985       0.020408   0.125   \n",
       "2             0           0  0.346734       0.040816   0.000   \n",
       "3             0           0  0.346734       0.000000   0.000   \n",
       "4             1           0  0.007538       0.020408   0.125   \n",
       "\n",
       "   nombre_sede_fiumark_palermo  nombre_sede_fiumark_quilmes  nombre_sede_nan  \\\n",
       "0                            0                            1                0   \n",
       "1                            0                            1                0   \n",
       "2                            0                            0                0   \n",
       "3                            1                            0                0   \n",
       "4                            1                            0                0   \n",
       "\n",
       "   cant_acompañantes  volveria  \n",
       "0                0.0       0.0  \n",
       "1                0.2       0.0  \n",
       "2                0.0       0.0  \n",
       "3                0.0       0.0  \n",
       "4                0.2       1.0  "
      ]
     },
     "execution_count": 218,
     "metadata": {},
     "output_type": "execute_result"
    }
   ],
   "source": [
    "df_2 = preprocesado_2(dataset, columnas_2)\n",
    "\n",
    "df_2.head()"
   ]
  },
  {
   "cell_type": "code",
   "execution_count": 219,
   "metadata": {},
   "outputs": [
    {
     "data": {
      "text/plain": [
       "(801, 14)"
      ]
     },
     "execution_count": 219,
     "metadata": {},
     "output_type": "execute_result"
    }
   ],
   "source": [
    "df_2.shape"
   ]
  },
  {
   "cell_type": "markdown",
   "metadata": {},
   "source": [
    "# Entrenamiento"
   ]
  },
  {
   "cell_type": "code",
   "execution_count": 226,
   "metadata": {},
   "outputs": [
    {
     "name": "stdout",
     "output_type": "stream",
     "text": [
      "X.shape:  (801, 13)\n",
      "y.shape:  (801,) \n",
      "\n",
      "Best score: 0.8474148061104584\n",
      "Best params {'n_estimators': 48, 'max_samples': 47, 'max_features': 6}\n",
      "\n",
      "Fold 0: AUC ROC score is 0.7419\n",
      "Fold 1: AUC ROC score is 0.7332\n",
      "Fold 2: AUC ROC score is 0.7692\n",
      "Fold 3: AUC ROC score is 0.7162\n",
      "Fold 4: AUC ROC score is 0.7121\n",
      "Mean test AUC ROC is: 0.7345\n"
     ]
    }
   ],
   "source": [
    "X_2, y_2 = split_dataset_X_y(df_2, columnas_nuevas)\n",
    "\n",
    "model_bagging = BaggingClassifier(\n",
    "    base_estimator = DecisionTreeClassifier(max_depth=3, min_samples_leaf=10,random_state=117, criterion=\"entropy\"),\n",
    "    random_state = 117\n",
    ")\n",
    "params_2 = {'max_samples': np.arange(1, 50), \n",
    "          'max_features': np.arange(1, 13),\n",
    "          'n_estimators': np.arange(1, 50),\n",
    "         }\n",
    "best_params_2, X_train_2, X_test_2, y_train_2, y_test_2 = fit_model_random_grid_search (X_2, y_2, model_bagging,\n",
    "                                                                                        params_2)\n",
    "\n",
    "bagging_2 = BaggingClassifier(\n",
    "    base_estimator = DecisionTreeClassifier(max_depth=3, min_samples_leaf=10,random_state=117,criterion=\"entropy\"),\n",
    "    random_state=117,\n",
    "    n_estimators = best_params_2['n_estimators'],\n",
    "    max_samples = best_params_2['max_samples'],\n",
    "    max_features = best_params_2['max_features']\n",
    ")\n",
    "\n",
    "bagging_2 = apply_stratified_k_fold(X_2, y_2, bagging_2)"
   ]
  },
  {
   "cell_type": "markdown",
   "metadata": {},
   "source": [
    "## Métricas"
   ]
  },
  {
   "cell_type": "code",
   "execution_count": 227,
   "metadata": {},
   "outputs": [
    {
     "name": "stdout",
     "output_type": "stream",
     "text": [
      "AUC ROC : 0.8255\n",
      "Accuracy : 0.7313\n",
      "Precision : 0.7018\n",
      "Recall : 0.8629\n",
      "F1-Score : 0.5970\n"
     ]
    }
   ],
   "source": [
    "scores_2 = get_scores(bagging_2, X_test_2, y_test_2)"
   ]
  },
  {
   "cell_type": "markdown",
   "metadata": {},
   "source": [
    "### Matriz de confusión"
   ]
  },
  {
   "cell_type": "code",
   "execution_count": 228,
   "metadata": {},
   "outputs": [
    {
     "name": "stderr",
     "output_type": "stream",
     "text": [
      "/home/anarella/.local/lib/python3.6/site-packages/sklearn/utils/validation.py:70: FutureWarning: Pass labels=[0.0, 1.0] as keyword args. From version 0.25 passing these as positional arguments will result in an error\n",
      "  FutureWarning)\n"
     ]
    },
    {
     "data": {
      "image/png": "[encoded data removed]",
      "text/plain": [
       "<Figure size 600x400 with 2 Axes>"
      ]
     },
     "metadata": {},
     "output_type": "display_data"
    }
   ],
   "source": [
    "plot_confusion_matrix(y_test_2, bagging_2.predict(X_test_2))"
   ]
  },
  {
   "cell_type": "markdown",
   "metadata": {},
   "source": [
    "## Test Holdout"
   ]
  },
  {
   "cell_type": "code",
   "execution_count": 229,
   "metadata": {},
   "outputs": [
    {
     "data": {
      "text/html": [
       "<div>\n",
       "<style scoped>\n",
       "    .dataframe tbody tr th:only-of-type {\n",
       "        vertical-align: middle;\n",
       "    }\n",
       "\n",
       "    .dataframe tbody tr th {\n",
       "        vertical-align: top;\n",
       "    }\n",
       "\n",
       "    .dataframe thead th {\n",
       "        text-align: right;\n",
       "    }\n",
       "</style>\n",
       "<table border=\"1\" class=\"dataframe\">\n",
       "  <thead>\n",
       "    <tr style=\"text-align: right;\">\n",
       "      <th></th>\n",
       "      <th>tipo_de_sala_4d</th>\n",
       "      <th>tipo_de_sala_normal</th>\n",
       "      <th>tipo_de_sala_nan</th>\n",
       "      <th>id_usuario</th>\n",
       "      <th>genero_mujer</th>\n",
       "      <th>genero_nan</th>\n",
       "      <th>edad</th>\n",
       "      <th>precio_ticket</th>\n",
       "      <th>amigos</th>\n",
       "      <th>nombre_sede_fiumark_palermo</th>\n",
       "      <th>nombre_sede_fiumark_quilmes</th>\n",
       "      <th>nombre_sede_nan</th>\n",
       "      <th>cant_acompañantes</th>\n",
       "    </tr>\n",
       "  </thead>\n",
       "  <tbody>\n",
       "    <tr>\n",
       "      <th>0</th>\n",
       "      <td>1</td>\n",
       "      <td>0</td>\n",
       "      <td>0</td>\n",
       "      <td>0.751756</td>\n",
       "      <td>1</td>\n",
       "      <td>0</td>\n",
       "      <td>0.344774</td>\n",
       "      <td>0.000000</td>\n",
       "      <td>0.0</td>\n",
       "      <td>1</td>\n",
       "      <td>0</td>\n",
       "      <td>0</td>\n",
       "      <td>0.0</td>\n",
       "    </tr>\n",
       "    <tr>\n",
       "      <th>1</th>\n",
       "      <td>1</td>\n",
       "      <td>0</td>\n",
       "      <td>0</td>\n",
       "      <td>0.264637</td>\n",
       "      <td>1</td>\n",
       "      <td>0</td>\n",
       "      <td>0.063963</td>\n",
       "      <td>0.061224</td>\n",
       "      <td>0.5</td>\n",
       "      <td>1</td>\n",
       "      <td>0</td>\n",
       "      <td>0</td>\n",
       "      <td>0.6</td>\n",
       "    </tr>\n",
       "    <tr>\n",
       "      <th>2</th>\n",
       "      <td>0</td>\n",
       "      <td>1</td>\n",
       "      <td>0</td>\n",
       "      <td>0.026932</td>\n",
       "      <td>0</td>\n",
       "      <td>0</td>\n",
       "      <td>0.609984</td>\n",
       "      <td>0.040816</td>\n",
       "      <td>0.0</td>\n",
       "      <td>0</td>\n",
       "      <td>0</td>\n",
       "      <td>0</td>\n",
       "      <td>0.0</td>\n",
       "    </tr>\n",
       "    <tr>\n",
       "      <th>3</th>\n",
       "      <td>0</td>\n",
       "      <td>0</td>\n",
       "      <td>0</td>\n",
       "      <td>0.637002</td>\n",
       "      <td>0</td>\n",
       "      <td>0</td>\n",
       "      <td>0.407176</td>\n",
       "      <td>0.040816</td>\n",
       "      <td>0.0</td>\n",
       "      <td>1</td>\n",
       "      <td>0</td>\n",
       "      <td>0</td>\n",
       "      <td>0.0</td>\n",
       "    </tr>\n",
       "    <tr>\n",
       "      <th>4</th>\n",
       "      <td>1</td>\n",
       "      <td>0</td>\n",
       "      <td>0</td>\n",
       "      <td>0.471897</td>\n",
       "      <td>0</td>\n",
       "      <td>0</td>\n",
       "      <td>0.438378</td>\n",
       "      <td>0.000000</td>\n",
       "      <td>0.0</td>\n",
       "      <td>1</td>\n",
       "      <td>0</td>\n",
       "      <td>0</td>\n",
       "      <td>0.0</td>\n",
       "    </tr>\n",
       "  </tbody>\n",
       "</table>\n",
       "</div>"
      ],
      "text/plain": [
       "   tipo_de_sala_4d  tipo_de_sala_normal  tipo_de_sala_nan  id_usuario  \\\n",
       "0                1                    0                 0    0.751756   \n",
       "1                1                    0                 0    0.264637   \n",
       "2                0                    1                 0    0.026932   \n",
       "3                0                    0                 0    0.637002   \n",
       "4                1                    0                 0    0.471897   \n",
       "\n",
       "   genero_mujer  genero_nan      edad  precio_ticket  amigos  \\\n",
       "0             1           0  0.344774       0.000000     0.0   \n",
       "1             1           0  0.063963       0.061224     0.5   \n",
       "2             0           0  0.609984       0.040816     0.0   \n",
       "3             0           0  0.407176       0.040816     0.0   \n",
       "4             0           0  0.438378       0.000000     0.0   \n",
       "\n",
       "   nombre_sede_fiumark_palermo  nombre_sede_fiumark_quilmes  nombre_sede_nan  \\\n",
       "0                            1                            0                0   \n",
       "1                            1                            0                0   \n",
       "2                            0                            0                0   \n",
       "3                            1                            0                0   \n",
       "4                            1                            0                0   \n",
       "\n",
       "   cant_acompañantes  \n",
       "0                0.0  \n",
       "1                0.6  \n",
       "2                0.0  \n",
       "3                0.0  \n",
       "4                0.0  "
      ]
     },
     "execution_count": 229,
     "metadata": {},
     "output_type": "execute_result"
    }
   ],
   "source": [
    "df_h_2 = preprocesado_2(holdout, columnas_nuevas)\n",
    "df_h_2.head()"
   ]
  },
  {
   "cell_type": "code",
   "execution_count": 230,
   "metadata": {},
   "outputs": [
    {
     "name": "stdout",
     "output_type": "stream",
     "text": [
      "y_pred.shape:  (90,)\n",
      "holdout_df.shape:  (90, 13) \n",
      "\n"
     ]
    },
    {
     "data": {
      "text/html": [
       "<div>\n",
       "<style scoped>\n",
       "    .dataframe tbody tr th:only-of-type {\n",
       "        vertical-align: middle;\n",
       "    }\n",
       "\n",
       "    .dataframe tbody tr th {\n",
       "        vertical-align: top;\n",
       "    }\n",
       "\n",
       "    .dataframe thead th {\n",
       "        text-align: right;\n",
       "    }\n",
       "</style>\n",
       "<table border=\"1\" class=\"dataframe\">\n",
       "  <thead>\n",
       "    <tr style=\"text-align: right;\">\n",
       "      <th></th>\n",
       "      <th>id_usuario</th>\n",
       "      <th>volveria</th>\n",
       "    </tr>\n",
       "  </thead>\n",
       "  <tbody>\n",
       "    <tr>\n",
       "      <th>0</th>\n",
       "      <td>650</td>\n",
       "      <td>0</td>\n",
       "    </tr>\n",
       "    <tr>\n",
       "      <th>1</th>\n",
       "      <td>234</td>\n",
       "      <td>1</td>\n",
       "    </tr>\n",
       "    <tr>\n",
       "      <th>2</th>\n",
       "      <td>31</td>\n",
       "      <td>0</td>\n",
       "    </tr>\n",
       "    <tr>\n",
       "      <th>3</th>\n",
       "      <td>552</td>\n",
       "      <td>0</td>\n",
       "    </tr>\n",
       "    <tr>\n",
       "      <th>4</th>\n",
       "      <td>411</td>\n",
       "      <td>0</td>\n",
       "    </tr>\n",
       "    <tr>\n",
       "      <th>5</th>\n",
       "      <td>134</td>\n",
       "      <td>1</td>\n",
       "    </tr>\n",
       "    <tr>\n",
       "      <th>6</th>\n",
       "      <td>497</td>\n",
       "      <td>1</td>\n",
       "    </tr>\n",
       "    <tr>\n",
       "      <th>7</th>\n",
       "      <td>434</td>\n",
       "      <td>0</td>\n",
       "    </tr>\n",
       "    <tr>\n",
       "      <th>8</th>\n",
       "      <td>528</td>\n",
       "      <td>0</td>\n",
       "    </tr>\n",
       "    <tr>\n",
       "      <th>9</th>\n",
       "      <td>112</td>\n",
       "      <td>1</td>\n",
       "    </tr>\n",
       "    <tr>\n",
       "      <th>10</th>\n",
       "      <td>276</td>\n",
       "      <td>1</td>\n",
       "    </tr>\n",
       "    <tr>\n",
       "      <th>11</th>\n",
       "      <td>446</td>\n",
       "      <td>0</td>\n",
       "    </tr>\n",
       "    <tr>\n",
       "      <th>12</th>\n",
       "      <td>138</td>\n",
       "      <td>0</td>\n",
       "    </tr>\n",
       "    <tr>\n",
       "      <th>13</th>\n",
       "      <td>233</td>\n",
       "      <td>0</td>\n",
       "    </tr>\n",
       "    <tr>\n",
       "      <th>14</th>\n",
       "      <td>457</td>\n",
       "      <td>0</td>\n",
       "    </tr>\n",
       "  </tbody>\n",
       "</table>\n",
       "</div>"
      ],
      "text/plain": [
       "    id_usuario  volveria\n",
       "0          650         0\n",
       "1          234         1\n",
       "2           31         0\n",
       "3          552         0\n",
       "4          411         0\n",
       "5          134         1\n",
       "6          497         1\n",
       "7          434         0\n",
       "8          528         0\n",
       "9          112         1\n",
       "10         276         1\n",
       "11         446         0\n",
       "12         138         0\n",
       "13         233         0\n",
       "14         457         0"
      ]
     },
     "execution_count": 230,
     "metadata": {},
     "output_type": "execute_result"
    }
   ],
   "source": [
    "df_resultado_2 = evaluate_holdout(holdout, df_h_2, bagging_2)\n",
    "df_resultado_2.head(15)"
   ]
  },
  {
   "cell_type": "code",
   "execution_count": 231,
   "metadata": {},
   "outputs": [],
   "source": [
    "df_resultado_2.to_csv('prediccion/Bagging_2do_prepoc_resultado_final.csv')"
   ]
  },
  {
   "cell_type": "code",
   "execution_count": null,
   "metadata": {},
   "outputs": [],
   "source": []
  },
  {
   "cell_type": "code",
   "execution_count": null,
   "metadata": {},
   "outputs": [],
   "source": []
  }
 ],
 "metadata": {
  "kernelspec": {
   "display_name": "Python 3",
   "language": "python",
   "name": "python3"
  },
  "language_info": {
   "codemirror_mode": {
    "name": "ipython",
    "version": 3
   },
   "file_extension": ".py",
   "mimetype": "text/x-python",
   "name": "python",
   "nbconvert_exporter": "python",
   "pygments_lexer": "ipython3",
   "version": "3.6.9"
  }
 },
 "nbformat": 4,
 "nbformat_minor": 4
}
