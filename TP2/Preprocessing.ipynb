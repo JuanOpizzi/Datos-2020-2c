{
 "cells": [
  {
   "cell_type": "markdown",
   "metadata": {},
   "source": [
    "# Preprocessing TP1\n",
    "Aca se escriben los distintos preprocesados y se describe rapidamente su funcionalidad\n"
   ]
  },
  {
   "cell_type": "code",
   "execution_count": 27,
   "metadata": {},
   "outputs": [],
   "source": [
    "import pandas as pd\n",
    "from matplotlib import pyplot as plt\n",
    "import matplotlib\n",
    "import seaborn as sns\n",
    "import numpy as np\n",
    "np.warnings.filterwarnings('ignore')\n",
    "from sklearn.metrics import accuracy_score\n",
    "import category_encoders as ce\n",
    "\n",
    "sns.set()\n",
    "\n"
   ]
  },
  {
   "cell_type": "code",
   "execution_count": 28,
   "metadata": {},
   "outputs": [],
   "source": [
    "column_titles = [\"tipo_de_sala\",\"id_usuario\",\"genero\",\"edad\",\"amigos\",\n",
    "                 \"parientes\",\"precio_ticket\",'nombre_sede','cant_acompañantes','volveria']"
   ]
  },
  {
   "cell_type": "code",
   "execution_count": 29,
   "metadata": {},
   "outputs": [],
   "source": [
    "numerics = ['int16', 'int32', 'int64', 'float16', 'float32', 'float64']"
   ]
  },
  {
   "cell_type": "markdown",
   "metadata": {},
   "source": [
    "Este preprossing esta basado en lo visto y hecho en el TP1, y es nuestro primero approach de preprossing"
   ]
  },
  {
   "cell_type": "code",
   "execution_count": 30,
   "metadata": {},
   "outputs": [],
   "source": [
    "def generate_initial_dataset(data_path, decision_path):\n",
    "    df_datos = pd.read_csv(data_path)\n",
    "    df_predict = pd.read_csv(decision_path)\n",
    "    df = pd.merge(df_datos, df_predict, how='inner', left_on='id_usuario', right_on='id_usuario')\n",
    "    df = df.drop(['id_ticket', 'fila', 'nombre'], axis=1)\n",
    "    df['cant_acompañantes'] = df['parientes'] + df['amigos']\n",
    "    df = df.reindex(columns = column_titles)\n",
    "    return df"
   ]
  },
  {
   "cell_type": "code",
   "execution_count": 31,
   "metadata": {},
   "outputs": [],
   "source": [
    "def generate_holdout_dataset(df_path):\n",
    "    df = pd.read_csv(df_path)\n",
    "    df = df.drop(['id_ticket', 'fila', 'nombre'], axis=1)\n",
    "    df['cant_acompañantes'] = df['parientes'] + df['amigos']\n",
    "    df = df.reindex(columns = column_titles)\n",
    "    return df"
   ]
  },
  {
   "cell_type": "markdown",
   "metadata": {},
   "source": [
    "Reemplazo los valores nulos de edad con la moda, la media o la meediana, segun que quiera"
   ]
  },
  {
   "cell_type": "code",
   "execution_count": 32,
   "metadata": {},
   "outputs": [],
   "source": [
    "def replace_nulls_edad(df, metrica):\n",
    "    s = df['edad']\n",
    "    if metrica == 'moda':\n",
    "        df = df.replace({'edad': np.nan}, s.mode())\n",
    "    elif metrica == 'mediana':\n",
    "        df = df.replace({'edad': np.nan}, s.median())\n",
    "    elif metrica == 'media':\n",
    "        df = df.replace({'edad': np.nan}, s.mean())\n",
    "    df = df.round({'edad': 1})\n",
    "    return df"
   ]
  },
  {
   "cell_type": "markdown",
   "metadata": {},
   "source": [
    "Encodeo todos los atributos categoricos"
   ]
  },
  {
   "cell_type": "code",
   "execution_count": 33,
   "metadata": {},
   "outputs": [],
   "source": [
    "def encodear_atributos_categoricos(df):\n",
    "    encoder = ce.BinaryEncoder(cols=['tipo_de_sala', 'genero', 'nombre_sede'],return_df=True)\n",
    "    df = encoder.fit_transform(df) \n",
    "    return df"
   ]
  },
  {
   "cell_type": "markdown",
   "metadata": {},
   "source": [
    "Agarro todos los atributos numericos y los normalizo"
   ]
  },
  {
   "cell_type": "code",
   "execution_count": 34,
   "metadata": {},
   "outputs": [],
   "source": [
    "def normalizar_atributos_numericos(df):\n",
    "    columnas_numericas = df.select_dtypes(include=numerics).columns.to_list()\n",
    "    maximo = df[columnas_numericas].max()\n",
    "    minimo = df[columnas_numericas].min()\n",
    "    df[columnas_numericas] = (df[columnas_numericas] - df[columnas_numericas].min()) / (df[columnas_numericas].max() - df[columnas_numericas].min())\n",
    "    return df"
   ]
  },
  {
   "cell_type": "code",
   "execution_count": null,
   "metadata": {},
   "outputs": [],
   "source": []
  },
  {
   "cell_type": "code",
   "execution_count": null,
   "metadata": {},
   "outputs": [],
   "source": []
  },
  {
   "cell_type": "code",
   "execution_count": null,
   "metadata": {},
   "outputs": [],
   "source": []
  }
 ],
 "metadata": {
  "kernelspec": {
   "display_name": "Python 3",
   "language": "python",
   "name": "python3"
  },
  "language_info": {
   "codemirror_mode": {
    "name": "ipython",
    "version": 3
   },
   "file_extension": ".py",
   "mimetype": "text/x-python",
   "name": "python",
   "nbconvert_exporter": "python",
   "pygments_lexer": "ipython3",
   "version": "3.6.9"
  }
 },
 "nbformat": 4,
 "nbformat_minor": 4
}
