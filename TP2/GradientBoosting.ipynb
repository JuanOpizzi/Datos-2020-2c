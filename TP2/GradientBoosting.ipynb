{
 "cells": [
  {
   "cell_type": "markdown",
   "metadata": {},
   "source": [
    "# GradientBoosting"
   ]
  },
  {
   "cell_type": "code",
   "execution_count": 1,
   "metadata": {},
   "outputs": [],
   "source": [
    "import pandas as pd\n",
    "from matplotlib import pyplot as plt\n",
    "import matplotlib\n",
    "import seaborn as sns\n",
    "import numpy as np\n",
    "#np.warnings.filterwarnings('ignore')\n",
    "\n",
    "from sklearn.tree import DecisionTreeClassifier, plot_tree\n",
    "from sklearn.metrics import f1_score, precision_score, accuracy_score,\\\n",
    "                            recall_score, roc_curve, auc, roc_auc_score, confusion_matrix\n",
    "from sklearn.model_selection import train_test_split, StratifiedKFold, RandomizedSearchCV, GridSearchCV\n",
    "from sklearn.ensemble import GradientBoostingClassifier\n",
    "\n",
    "sns.set()\n",
    "\n",
    "df_data = pd.read_csv('https://drive.google.com/uc?export=download&id=1i-KJ2lSvM7OQH0Yd59bX01VoZcq8Sglq')\n",
    "df_decision = pd.read_csv('https://drive.google.com/uc?export=download&id=1km-AEIMnWVGqMtK-W28n59hqS5Kufhd0')"
   ]
  },
  {
   "cell_type": "markdown",
   "metadata": {},
   "source": [
    "## Preprocesado"
   ]
  },
  {
   "cell_type": "code",
   "execution_count": 2,
   "metadata": {},
   "outputs": [],
   "source": [
    "#import importlib, sys\n",
    "from Preprocessing import *"
   ]
  },
  {
   "cell_type": "code",
   "execution_count": 3,
   "metadata": {},
   "outputs": [
    {
     "data": {
      "text/html": [
       "<div>\n",
       "<style scoped>\n",
       "    .dataframe tbody tr th:only-of-type {\n",
       "        vertical-align: middle;\n",
       "    }\n",
       "\n",
       "    .dataframe tbody tr th {\n",
       "        vertical-align: top;\n",
       "    }\n",
       "\n",
       "    .dataframe thead th {\n",
       "        text-align: right;\n",
       "    }\n",
       "</style>\n",
       "<table border=\"1\" class=\"dataframe\">\n",
       "  <thead>\n",
       "    <tr style=\"text-align: right;\">\n",
       "      <th></th>\n",
       "      <th>tipo_de_sala</th>\n",
       "      <th>id_usuario</th>\n",
       "      <th>genero</th>\n",
       "      <th>edad</th>\n",
       "      <th>amigos</th>\n",
       "      <th>parientes</th>\n",
       "      <th>precio_ticket</th>\n",
       "      <th>nombre_sede</th>\n",
       "      <th>cant_acompañantes</th>\n",
       "      <th>volveria</th>\n",
       "    </tr>\n",
       "  </thead>\n",
       "  <tbody>\n",
       "    <tr>\n",
       "      <th>0</th>\n",
       "      <td>4d</td>\n",
       "      <td>117</td>\n",
       "      <td>hombre</td>\n",
       "      <td>73.5</td>\n",
       "      <td>0</td>\n",
       "      <td>0</td>\n",
       "      <td>1</td>\n",
       "      <td>fiumark_quilmes</td>\n",
       "      <td>0</td>\n",
       "      <td>0</td>\n",
       "    </tr>\n",
       "    <tr>\n",
       "      <th>1</th>\n",
       "      <td>4d</td>\n",
       "      <td>658</td>\n",
       "      <td>mujer</td>\n",
       "      <td>35.0</td>\n",
       "      <td>1</td>\n",
       "      <td>1</td>\n",
       "      <td>2</td>\n",
       "      <td>fiumark_quilmes</td>\n",
       "      <td>2</td>\n",
       "      <td>0</td>\n",
       "    </tr>\n",
       "    <tr>\n",
       "      <th>2</th>\n",
       "      <td>normal</td>\n",
       "      <td>794</td>\n",
       "      <td>hombre</td>\n",
       "      <td>32.7</td>\n",
       "      <td>0</td>\n",
       "      <td>0</td>\n",
       "      <td>3</td>\n",
       "      <td>fiumark_chacarita</td>\n",
       "      <td>0</td>\n",
       "      <td>0</td>\n",
       "    </tr>\n",
       "    <tr>\n",
       "      <th>3</th>\n",
       "      <td>4d</td>\n",
       "      <td>455</td>\n",
       "      <td>hombre</td>\n",
       "      <td>32.7</td>\n",
       "      <td>0</td>\n",
       "      <td>0</td>\n",
       "      <td>1</td>\n",
       "      <td>fiumark_palermo</td>\n",
       "      <td>0</td>\n",
       "      <td>0</td>\n",
       "    </tr>\n",
       "    <tr>\n",
       "      <th>4</th>\n",
       "      <td>4d</td>\n",
       "      <td>173</td>\n",
       "      <td>mujer</td>\n",
       "      <td>4.0</td>\n",
       "      <td>1</td>\n",
       "      <td>1</td>\n",
       "      <td>2</td>\n",
       "      <td>fiumark_palermo</td>\n",
       "      <td>2</td>\n",
       "      <td>1</td>\n",
       "    </tr>\n",
       "  </tbody>\n",
       "</table>\n",
       "</div>"
      ],
      "text/plain": [
       "  tipo_de_sala  id_usuario  genero  edad  amigos  parientes  precio_ticket  \\\n",
       "0           4d         117  hombre  73.5       0          0              1   \n",
       "1           4d         658   mujer  35.0       1          1              2   \n",
       "2       normal         794  hombre  32.7       0          0              3   \n",
       "3           4d         455  hombre  32.7       0          0              1   \n",
       "4           4d         173   mujer   4.0       1          1              2   \n",
       "\n",
       "         nombre_sede  cant_acompañantes  volveria  \n",
       "0    fiumark_quilmes                  0         0  \n",
       "1    fiumark_quilmes                  2         0  \n",
       "2  fiumark_chacarita                  0         0  \n",
       "3    fiumark_palermo                  0         0  \n",
       "4    fiumark_palermo                  2         1  "
      ]
     },
     "execution_count": 3,
     "metadata": {},
     "output_type": "execute_result"
    }
   ],
   "source": [
    "df = preprod_tp1(df_data, df_decision)\n",
    "df = replace_nulls_edad(df, 'media')\n",
    "df.head()"
   ]
  },
  {
   "cell_type": "code",
   "execution_count": 4,
   "metadata": {},
   "outputs": [
    {
     "data": {
      "text/html": [
       "<div>\n",
       "<style scoped>\n",
       "    .dataframe tbody tr th:only-of-type {\n",
       "        vertical-align: middle;\n",
       "    }\n",
       "\n",
       "    .dataframe tbody tr th {\n",
       "        vertical-align: top;\n",
       "    }\n",
       "\n",
       "    .dataframe thead th {\n",
       "        text-align: right;\n",
       "    }\n",
       "</style>\n",
       "<table border=\"1\" class=\"dataframe\">\n",
       "  <thead>\n",
       "    <tr style=\"text-align: right;\">\n",
       "      <th></th>\n",
       "      <th>tipo_de_sala_0</th>\n",
       "      <th>tipo_de_sala_1</th>\n",
       "      <th>tipo_de_sala_2</th>\n",
       "      <th>id_usuario</th>\n",
       "      <th>genero_0</th>\n",
       "      <th>genero_1</th>\n",
       "      <th>edad</th>\n",
       "      <th>amigos</th>\n",
       "      <th>parientes</th>\n",
       "      <th>precio_ticket</th>\n",
       "      <th>nombre_sede_0</th>\n",
       "      <th>nombre_sede_1</th>\n",
       "      <th>nombre_sede_2</th>\n",
       "      <th>cant_acompañantes</th>\n",
       "      <th>volveria</th>\n",
       "    </tr>\n",
       "  </thead>\n",
       "  <tbody>\n",
       "    <tr>\n",
       "      <th>0</th>\n",
       "      <td>0</td>\n",
       "      <td>0</td>\n",
       "      <td>1</td>\n",
       "      <td>117</td>\n",
       "      <td>0</td>\n",
       "      <td>1</td>\n",
       "      <td>73.5</td>\n",
       "      <td>0</td>\n",
       "      <td>0</td>\n",
       "      <td>1</td>\n",
       "      <td>0</td>\n",
       "      <td>0</td>\n",
       "      <td>1</td>\n",
       "      <td>0</td>\n",
       "      <td>0</td>\n",
       "    </tr>\n",
       "    <tr>\n",
       "      <th>1</th>\n",
       "      <td>0</td>\n",
       "      <td>0</td>\n",
       "      <td>1</td>\n",
       "      <td>658</td>\n",
       "      <td>1</td>\n",
       "      <td>0</td>\n",
       "      <td>35.0</td>\n",
       "      <td>1</td>\n",
       "      <td>1</td>\n",
       "      <td>2</td>\n",
       "      <td>0</td>\n",
       "      <td>0</td>\n",
       "      <td>1</td>\n",
       "      <td>2</td>\n",
       "      <td>0</td>\n",
       "    </tr>\n",
       "    <tr>\n",
       "      <th>2</th>\n",
       "      <td>0</td>\n",
       "      <td>1</td>\n",
       "      <td>0</td>\n",
       "      <td>794</td>\n",
       "      <td>0</td>\n",
       "      <td>1</td>\n",
       "      <td>32.7</td>\n",
       "      <td>0</td>\n",
       "      <td>0</td>\n",
       "      <td>3</td>\n",
       "      <td>0</td>\n",
       "      <td>1</td>\n",
       "      <td>0</td>\n",
       "      <td>0</td>\n",
       "      <td>0</td>\n",
       "    </tr>\n",
       "    <tr>\n",
       "      <th>3</th>\n",
       "      <td>0</td>\n",
       "      <td>0</td>\n",
       "      <td>1</td>\n",
       "      <td>455</td>\n",
       "      <td>0</td>\n",
       "      <td>1</td>\n",
       "      <td>32.7</td>\n",
       "      <td>0</td>\n",
       "      <td>0</td>\n",
       "      <td>1</td>\n",
       "      <td>0</td>\n",
       "      <td>1</td>\n",
       "      <td>1</td>\n",
       "      <td>0</td>\n",
       "      <td>0</td>\n",
       "    </tr>\n",
       "    <tr>\n",
       "      <th>4</th>\n",
       "      <td>0</td>\n",
       "      <td>0</td>\n",
       "      <td>1</td>\n",
       "      <td>173</td>\n",
       "      <td>1</td>\n",
       "      <td>0</td>\n",
       "      <td>4.0</td>\n",
       "      <td>1</td>\n",
       "      <td>1</td>\n",
       "      <td>2</td>\n",
       "      <td>0</td>\n",
       "      <td>1</td>\n",
       "      <td>1</td>\n",
       "      <td>2</td>\n",
       "      <td>1</td>\n",
       "    </tr>\n",
       "  </tbody>\n",
       "</table>\n",
       "</div>"
      ],
      "text/plain": [
       "   tipo_de_sala_0  tipo_de_sala_1  tipo_de_sala_2  id_usuario  genero_0  \\\n",
       "0               0               0               1         117         0   \n",
       "1               0               0               1         658         1   \n",
       "2               0               1               0         794         0   \n",
       "3               0               0               1         455         0   \n",
       "4               0               0               1         173         1   \n",
       "\n",
       "   genero_1  edad  amigos  parientes  precio_ticket  nombre_sede_0  \\\n",
       "0         1  73.5       0          0              1              0   \n",
       "1         0  35.0       1          1              2              0   \n",
       "2         1  32.7       0          0              3              0   \n",
       "3         1  32.7       0          0              1              0   \n",
       "4         0   4.0       1          1              2              0   \n",
       "\n",
       "   nombre_sede_1  nombre_sede_2  cant_acompañantes  volveria  \n",
       "0              0              1                  0         0  \n",
       "1              0              1                  2         0  \n",
       "2              1              0                  0         0  \n",
       "3              1              1                  0         0  \n",
       "4              1              1                  2         1  "
      ]
     },
     "execution_count": 4,
     "metadata": {},
     "output_type": "execute_result"
    }
   ],
   "source": [
    "df = encodear_atributos_categoricos(df)\n",
    "df.head()"
   ]
  },
  {
   "cell_type": "markdown",
   "metadata": {},
   "source": [
    "## Entrenamiento"
   ]
  },
  {
   "cell_type": "code",
   "execution_count": 5,
   "metadata": {},
   "outputs": [],
   "source": [
    "X, y = df.iloc[:,:-1], df.iloc[:,-1]"
   ]
  },
  {
   "cell_type": "code",
   "execution_count": 6,
   "metadata": {},
   "outputs": [
    {
     "data": {
      "text/html": [
       "<div>\n",
       "<style scoped>\n",
       "    .dataframe tbody tr th:only-of-type {\n",
       "        vertical-align: middle;\n",
       "    }\n",
       "\n",
       "    .dataframe tbody tr th {\n",
       "        vertical-align: top;\n",
       "    }\n",
       "\n",
       "    .dataframe thead th {\n",
       "        text-align: right;\n",
       "    }\n",
       "</style>\n",
       "<table border=\"1\" class=\"dataframe\">\n",
       "  <thead>\n",
       "    <tr style=\"text-align: right;\">\n",
       "      <th></th>\n",
       "      <th>tipo_de_sala_0</th>\n",
       "      <th>tipo_de_sala_1</th>\n",
       "      <th>tipo_de_sala_2</th>\n",
       "      <th>id_usuario</th>\n",
       "      <th>genero_0</th>\n",
       "      <th>genero_1</th>\n",
       "      <th>edad</th>\n",
       "      <th>amigos</th>\n",
       "      <th>parientes</th>\n",
       "      <th>precio_ticket</th>\n",
       "      <th>nombre_sede_0</th>\n",
       "      <th>nombre_sede_1</th>\n",
       "      <th>nombre_sede_2</th>\n",
       "      <th>cant_acompañantes</th>\n",
       "    </tr>\n",
       "  </thead>\n",
       "  <tbody>\n",
       "    <tr>\n",
       "      <th>0</th>\n",
       "      <td>0</td>\n",
       "      <td>0</td>\n",
       "      <td>1</td>\n",
       "      <td>117</td>\n",
       "      <td>0</td>\n",
       "      <td>1</td>\n",
       "      <td>73.5</td>\n",
       "      <td>0</td>\n",
       "      <td>0</td>\n",
       "      <td>1</td>\n",
       "      <td>0</td>\n",
       "      <td>0</td>\n",
       "      <td>1</td>\n",
       "      <td>0</td>\n",
       "    </tr>\n",
       "    <tr>\n",
       "      <th>1</th>\n",
       "      <td>0</td>\n",
       "      <td>0</td>\n",
       "      <td>1</td>\n",
       "      <td>658</td>\n",
       "      <td>1</td>\n",
       "      <td>0</td>\n",
       "      <td>35.0</td>\n",
       "      <td>1</td>\n",
       "      <td>1</td>\n",
       "      <td>2</td>\n",
       "      <td>0</td>\n",
       "      <td>0</td>\n",
       "      <td>1</td>\n",
       "      <td>2</td>\n",
       "    </tr>\n",
       "    <tr>\n",
       "      <th>2</th>\n",
       "      <td>0</td>\n",
       "      <td>1</td>\n",
       "      <td>0</td>\n",
       "      <td>794</td>\n",
       "      <td>0</td>\n",
       "      <td>1</td>\n",
       "      <td>32.7</td>\n",
       "      <td>0</td>\n",
       "      <td>0</td>\n",
       "      <td>3</td>\n",
       "      <td>0</td>\n",
       "      <td>1</td>\n",
       "      <td>0</td>\n",
       "      <td>0</td>\n",
       "    </tr>\n",
       "    <tr>\n",
       "      <th>3</th>\n",
       "      <td>0</td>\n",
       "      <td>0</td>\n",
       "      <td>1</td>\n",
       "      <td>455</td>\n",
       "      <td>0</td>\n",
       "      <td>1</td>\n",
       "      <td>32.7</td>\n",
       "      <td>0</td>\n",
       "      <td>0</td>\n",
       "      <td>1</td>\n",
       "      <td>0</td>\n",
       "      <td>1</td>\n",
       "      <td>1</td>\n",
       "      <td>0</td>\n",
       "    </tr>\n",
       "    <tr>\n",
       "      <th>4</th>\n",
       "      <td>0</td>\n",
       "      <td>0</td>\n",
       "      <td>1</td>\n",
       "      <td>173</td>\n",
       "      <td>1</td>\n",
       "      <td>0</td>\n",
       "      <td>4.0</td>\n",
       "      <td>1</td>\n",
       "      <td>1</td>\n",
       "      <td>2</td>\n",
       "      <td>0</td>\n",
       "      <td>1</td>\n",
       "      <td>1</td>\n",
       "      <td>2</td>\n",
       "    </tr>\n",
       "  </tbody>\n",
       "</table>\n",
       "</div>"
      ],
      "text/plain": [
       "   tipo_de_sala_0  tipo_de_sala_1  tipo_de_sala_2  id_usuario  genero_0  \\\n",
       "0               0               0               1         117         0   \n",
       "1               0               0               1         658         1   \n",
       "2               0               1               0         794         0   \n",
       "3               0               0               1         455         0   \n",
       "4               0               0               1         173         1   \n",
       "\n",
       "   genero_1  edad  amigos  parientes  precio_ticket  nombre_sede_0  \\\n",
       "0         1  73.5       0          0              1              0   \n",
       "1         0  35.0       1          1              2              0   \n",
       "2         1  32.7       0          0              3              0   \n",
       "3         1  32.7       0          0              1              0   \n",
       "4         0   4.0       1          1              2              0   \n",
       "\n",
       "   nombre_sede_1  nombre_sede_2  cant_acompañantes  \n",
       "0              0              1                  0  \n",
       "1              0              1                  2  \n",
       "2              1              0                  0  \n",
       "3              1              1                  0  \n",
       "4              1              1                  2  "
      ]
     },
     "execution_count": 6,
     "metadata": {},
     "output_type": "execute_result"
    }
   ],
   "source": [
    "X.head()"
   ]
  },
  {
   "cell_type": "code",
   "execution_count": 7,
   "metadata": {},
   "outputs": [
    {
     "data": {
      "text/plain": [
       "0    0\n",
       "1    0\n",
       "2    0\n",
       "3    0\n",
       "4    1\n",
       "Name: volveria, dtype: int64"
      ]
     },
     "execution_count": 7,
     "metadata": {},
     "output_type": "execute_result"
    }
   ],
   "source": [
    "y.head()"
   ]
  },
  {
   "cell_type": "code",
   "execution_count": 8,
   "metadata": {},
   "outputs": [],
   "source": [
    "X_train, X_test, y_train, y_test = train_test_split(X, y, random_state=117)"
   ]
  },
  {
   "cell_type": "markdown",
   "metadata": {},
   "source": [
    "## Random Search"
   ]
  },
  {
   "cell_type": "code",
   "execution_count": 9,
   "metadata": {},
   "outputs": [],
   "source": [
    "params = {'min_samples_split': np.arange(1, 16), \n",
    "          'max_depth': np.arange(1, 35),\n",
    "          'n_estimators': np.arange(75, 125),\n",
    "          'learning_rate': [0.1, 0.2, 0.4, 0.7],\n",
    "          'criterion': ['friedman_mse', 'mse', 'mae'],\n",
    "          'loss': ['deviance', 'exponential'],\n",
    "         }\n",
    "\n",
    "model_boosting = GradientBoostingClassifier(random_state=117)\n",
    "\n",
    "rgscv = RandomizedSearchCV(\n",
    "    model_boosting, params, n_iter=60, scoring='roc_auc', cv=5, return_train_score=True\n",
    ").fit(X_train, y_train)"
   ]
  },
  {
   "cell_type": "code",
   "execution_count": 10,
   "metadata": {},
   "outputs": [
    {
     "name": "stdout",
     "output_type": "stream",
     "text": [
      "Best score: 0.8459048469731119\n",
      "Best params {'n_estimators': 99, 'min_samples_split': 7, 'max_depth': 3, 'loss': 'deviance', 'learning_rate': 0.7, 'criterion': 'friedman_mse'}\n"
     ]
    }
   ],
   "source": [
    "print(f\"Best score: {rgscv.best_score_}\")\n",
    "print(f\"Best params {rgscv.best_params_}\")"
   ]
  },
  {
   "cell_type": "code",
   "execution_count": null,
   "metadata": {},
   "outputs": [],
   "source": []
  },
  {
   "cell_type": "code",
   "execution_count": 11,
   "metadata": {},
   "outputs": [
    {
     "name": "stdout",
     "output_type": "stream",
     "text": [
      "fold 0: auc roc score is 0.7781\n",
      "fold 1: auc roc score is 0.7382\n",
      "fold 2: auc roc score is 0.7880\n",
      "fold 3: auc roc score is 0.8032\n",
      "fold 4: auc roc score is 0.7936\n",
      "mean test auc roc is: 0.7802\n"
     ]
    }
   ],
   "source": [
    "kf = StratifiedKFold(n_splits=5)\n",
    "\n",
    "test_rocs = []\n",
    "for fold_idx, (train_index, test_index) in enumerate(kf.split(X, y)):\n",
    "    boosting = GradientBoostingClassifier(random_state=117,\n",
    "                n_estimators = rgscv.best_params_['n_estimators'],\n",
    "                min_samples_split = rgscv.best_params_['min_samples_split'],\n",
    "                max_depth = rgscv.best_params_['max_depth'],\n",
    "                loss = rgscv.best_params_['loss'],\n",
    "                learning_rate = rgscv.best_params_['learning_rate'],\n",
    "                criterion = rgscv.best_params_['criterion'],\n",
    "                )\n",
    "    boosting.fit(X.iloc[train_index], y.iloc[train_index])\n",
    "    test_roc = roc_auc_score(y.iloc[test_index], boosting.predict(X.iloc[test_index]))\n",
    "    print(f\"fold {fold_idx}: auc roc score is {test_roc:.4f}\")\n",
    "    test_rocs.append(test_roc)\n",
    "print(f\"mean test auc roc is: {np.mean(test_rocs):.4f}\")"
   ]
  },
  {
   "cell_type": "markdown",
   "metadata": {},
   "source": [
    "## Metricas"
   ]
  },
  {
   "cell_type": "markdown",
   "metadata": {},
   "source": [
    "### AUC ROC"
   ]
  },
  {
   "cell_type": "code",
   "execution_count": 12,
   "metadata": {},
   "outputs": [
    {
     "name": "stdout",
     "output_type": "stream",
     "text": [
      "0.9531\n"
     ]
    }
   ],
   "source": [
    "roc = roc_auc_score(y_test, boosting.predict_proba(X_test)[:,1])\n",
    "print(f\"{roc:.4f}\")"
   ]
  },
  {
   "cell_type": "markdown",
   "metadata": {},
   "source": [
    "### Accuracy"
   ]
  },
  {
   "cell_type": "code",
   "execution_count": 13,
   "metadata": {},
   "outputs": [
    {
     "name": "stdout",
     "output_type": "stream",
     "text": [
      "0.9652\n"
     ]
    }
   ],
   "source": [
    "acc = accuracy_score(y_test, boosting.predict(X_test))\n",
    "print(f\"{acc:.4f}\")"
   ]
  },
  {
   "cell_type": "markdown",
   "metadata": {},
   "source": [
    "### Precision"
   ]
  },
  {
   "cell_type": "code",
   "execution_count": 14,
   "metadata": {},
   "outputs": [
    {
     "name": "stdout",
     "output_type": "stream",
     "text": [
      "0.9718\n"
     ]
    }
   ],
   "source": [
    "precision = precision_score(y_test, boosting.predict(X_test))\n",
    "print(f\"{precision:.4f}\")"
   ]
  },
  {
   "cell_type": "markdown",
   "metadata": {},
   "source": [
    "### Recall"
   ]
  },
  {
   "cell_type": "code",
   "execution_count": 15,
   "metadata": {},
   "outputs": [
    {
     "name": "stdout",
     "output_type": "stream",
     "text": [
      "0.9843\n"
     ]
    }
   ],
   "source": [
    "recall = recall_score(y_test, boosting.predict(X_test), pos_label=0)\n",
    "print(f\"{recall:.4f}\")"
   ]
  },
  {
   "cell_type": "markdown",
   "metadata": {},
   "source": [
    "### F1-Score"
   ]
  },
  {
   "cell_type": "code",
   "execution_count": 16,
   "metadata": {},
   "outputs": [
    {
     "name": "stdout",
     "output_type": "stream",
     "text": [
      "0.9517\n"
     ]
    }
   ],
   "source": [
    "f1 = f1_score(y_test, boosting.predict(X_test))\n",
    "print(f\"{f1:.4f}\")"
   ]
  },
  {
   "cell_type": "markdown",
   "metadata": {},
   "source": [
    "### Matriz de confusion"
   ]
  },
  {
   "cell_type": "code",
   "execution_count": 17,
   "metadata": {},
   "outputs": [
    {
     "data": {
      "image/png": "[encoded data removed]",
      "text/plain": [
       "<Figure size 600x400 with 2 Axes>"
      ]
     },
     "metadata": {},
     "output_type": "display_data"
    }
   ],
   "source": [
    "def plot_confusion_matrix(y_true, y_pred):\n",
    "    names = sorted(set(y_true))\n",
    "    cm = confusion_matrix(y_true, y_pred, names)\n",
    "    df_cm = pd.DataFrame(cm, names, names)\n",
    "\n",
    "    plt.figure(dpi=100)\n",
    "    plt.title(\"Matriz de confusion\")\n",
    "    sns.heatmap(df_cm, annot=True, annot_kws={\"size\": 16}, fmt='g', square=True)\n",
    "    plt.ylabel(\"True label\")\n",
    "    plt.xlabel(\"Predicted label\")\n",
    "    plt.show()\n",
    "\n",
    "\n",
    "plot_confusion_matrix(y_test, boosting.predict(X_test))"
   ]
  },
  {
   "cell_type": "markdown",
   "metadata": {},
   "source": [
    "## Test Holdout"
   ]
  },
  {
   "cell_type": "code",
   "execution_count": 18,
   "metadata": {},
   "outputs": [
    {
     "data": {
      "text/html": [
       "<div>\n",
       "<style scoped>\n",
       "    .dataframe tbody tr th:only-of-type {\n",
       "        vertical-align: middle;\n",
       "    }\n",
       "\n",
       "    .dataframe tbody tr th {\n",
       "        vertical-align: top;\n",
       "    }\n",
       "\n",
       "    .dataframe thead th {\n",
       "        text-align: right;\n",
       "    }\n",
       "</style>\n",
       "<table border=\"1\" class=\"dataframe\">\n",
       "  <thead>\n",
       "    <tr style=\"text-align: right;\">\n",
       "      <th></th>\n",
       "      <th>tipo_de_sala</th>\n",
       "      <th>nombre</th>\n",
       "      <th>id_usuario</th>\n",
       "      <th>genero</th>\n",
       "      <th>edad</th>\n",
       "      <th>amigos</th>\n",
       "      <th>parientes</th>\n",
       "      <th>id_ticket</th>\n",
       "      <th>precio_ticket</th>\n",
       "      <th>fila</th>\n",
       "      <th>nombre_sede</th>\n",
       "    </tr>\n",
       "  </thead>\n",
       "  <tbody>\n",
       "    <tr>\n",
       "      <th>0</th>\n",
       "      <td>4d</td>\n",
       "      <td>Señorita Beatriz Estela</td>\n",
       "      <td>650</td>\n",
       "      <td>mujer</td>\n",
       "      <td>26.0</td>\n",
       "      <td>0</td>\n",
       "      <td>0</td>\n",
       "      <td>EC0\"4536</td>\n",
       "      <td>1</td>\n",
       "      <td>NaN</td>\n",
       "      <td>fiumark_palermo</td>\n",
       "    </tr>\n",
       "    <tr>\n",
       "      <th>1</th>\n",
       "      <td>4d</td>\n",
       "      <td>Señorita Elena Herminda</td>\n",
       "      <td>234</td>\n",
       "      <td>mujer</td>\n",
       "      <td>8.0</td>\n",
       "      <td>4</td>\n",
       "      <td>2</td>\n",
       "      <td>569299</td>\n",
       "      <td>4</td>\n",
       "      <td>NaN</td>\n",
       "      <td>fiumark_palermo</td>\n",
       "    </tr>\n",
       "    <tr>\n",
       "      <th>2</th>\n",
       "      <td>normal</td>\n",
       "      <td>Señor Humberto Americo</td>\n",
       "      <td>31</td>\n",
       "      <td>hombre</td>\n",
       "      <td>43.0</td>\n",
       "      <td>0</td>\n",
       "      <td>0</td>\n",
       "      <td>RE\"39823</td>\n",
       "      <td>3</td>\n",
       "      <td>NaN</td>\n",
       "      <td>fiumark_chacarita</td>\n",
       "    </tr>\n",
       "    <tr>\n",
       "      <th>3</th>\n",
       "      <td>3d</td>\n",
       "      <td>Señor Casiano</td>\n",
       "      <td>552</td>\n",
       "      <td>hombre</td>\n",
       "      <td>30.0</td>\n",
       "      <td>0</td>\n",
       "      <td>0</td>\n",
       "      <td>46657:</td>\n",
       "      <td>3</td>\n",
       "      <td>NaN</td>\n",
       "      <td>fiumark_palermo</td>\n",
       "    </tr>\n",
       "    <tr>\n",
       "      <th>4</th>\n",
       "      <td>4d</td>\n",
       "      <td>Señor Gregorio Nicolas</td>\n",
       "      <td>411</td>\n",
       "      <td>hombre</td>\n",
       "      <td>NaN</td>\n",
       "      <td>0</td>\n",
       "      <td>0</td>\n",
       "      <td>56;444</td>\n",
       "      <td>1</td>\n",
       "      <td>NaN</td>\n",
       "      <td>fiumark_palermo</td>\n",
       "    </tr>\n",
       "  </tbody>\n",
       "</table>\n",
       "</div>"
      ],
      "text/plain": [
       "  tipo_de_sala                   nombre  id_usuario  genero  edad  amigos  \\\n",
       "0           4d  Señorita Beatriz Estela         650   mujer  26.0       0   \n",
       "1           4d  Señorita Elena Herminda         234   mujer   8.0       4   \n",
       "2       normal   Señor Humberto Americo          31  hombre  43.0       0   \n",
       "3           3d            Señor Casiano         552  hombre  30.0       0   \n",
       "4           4d   Señor Gregorio Nicolas         411  hombre   NaN       0   \n",
       "\n",
       "   parientes id_ticket  precio_ticket fila        nombre_sede  \n",
       "0          0  EC0\"4536              1  NaN    fiumark_palermo  \n",
       "1          2    569299              4  NaN    fiumark_palermo  \n",
       "2          0  RE\"39823              3  NaN  fiumark_chacarita  \n",
       "3          0    46657:              3  NaN    fiumark_palermo  \n",
       "4          0    56;444              1  NaN    fiumark_palermo  "
      ]
     },
     "execution_count": 18,
     "metadata": {},
     "output_type": "execute_result"
    }
   ],
   "source": [
    "holdout = pd.read_csv('https://drive.google.com/uc?export=download&id=1I980-_K9iOucJO26SG5_M8RELOQ5VB6A')\n",
    "holdout.head(5)"
   ]
  },
  {
   "cell_type": "code",
   "execution_count": 19,
   "metadata": {},
   "outputs": [
    {
     "data": {
      "text/html": [
       "<div>\n",
       "<style scoped>\n",
       "    .dataframe tbody tr th:only-of-type {\n",
       "        vertical-align: middle;\n",
       "    }\n",
       "\n",
       "    .dataframe tbody tr th {\n",
       "        vertical-align: top;\n",
       "    }\n",
       "\n",
       "    .dataframe thead th {\n",
       "        text-align: right;\n",
       "    }\n",
       "</style>\n",
       "<table border=\"1\" class=\"dataframe\">\n",
       "  <thead>\n",
       "    <tr style=\"text-align: right;\">\n",
       "      <th></th>\n",
       "      <th>tipo_de_sala_0</th>\n",
       "      <th>tipo_de_sala_1</th>\n",
       "      <th>tipo_de_sala_2</th>\n",
       "      <th>id_usuario</th>\n",
       "      <th>genero_0</th>\n",
       "      <th>genero_1</th>\n",
       "      <th>edad</th>\n",
       "      <th>amigos</th>\n",
       "      <th>parientes</th>\n",
       "      <th>precio_ticket</th>\n",
       "      <th>nombre_sede_0</th>\n",
       "      <th>nombre_sede_1</th>\n",
       "      <th>nombre_sede_2</th>\n",
       "      <th>cant_acompañantes</th>\n",
       "    </tr>\n",
       "  </thead>\n",
       "  <tbody>\n",
       "    <tr>\n",
       "      <th>0</th>\n",
       "      <td>0</td>\n",
       "      <td>0</td>\n",
       "      <td>1</td>\n",
       "      <td>650</td>\n",
       "      <td>0</td>\n",
       "      <td>1</td>\n",
       "      <td>26.0</td>\n",
       "      <td>0</td>\n",
       "      <td>0</td>\n",
       "      <td>1</td>\n",
       "      <td>0</td>\n",
       "      <td>0</td>\n",
       "      <td>1</td>\n",
       "      <td>0</td>\n",
       "    </tr>\n",
       "    <tr>\n",
       "      <th>1</th>\n",
       "      <td>0</td>\n",
       "      <td>0</td>\n",
       "      <td>1</td>\n",
       "      <td>234</td>\n",
       "      <td>0</td>\n",
       "      <td>1</td>\n",
       "      <td>8.0</td>\n",
       "      <td>4</td>\n",
       "      <td>2</td>\n",
       "      <td>4</td>\n",
       "      <td>0</td>\n",
       "      <td>0</td>\n",
       "      <td>1</td>\n",
       "      <td>6</td>\n",
       "    </tr>\n",
       "    <tr>\n",
       "      <th>2</th>\n",
       "      <td>0</td>\n",
       "      <td>1</td>\n",
       "      <td>0</td>\n",
       "      <td>31</td>\n",
       "      <td>1</td>\n",
       "      <td>0</td>\n",
       "      <td>43.0</td>\n",
       "      <td>0</td>\n",
       "      <td>0</td>\n",
       "      <td>3</td>\n",
       "      <td>0</td>\n",
       "      <td>1</td>\n",
       "      <td>0</td>\n",
       "      <td>0</td>\n",
       "    </tr>\n",
       "    <tr>\n",
       "      <th>3</th>\n",
       "      <td>0</td>\n",
       "      <td>1</td>\n",
       "      <td>1</td>\n",
       "      <td>552</td>\n",
       "      <td>1</td>\n",
       "      <td>0</td>\n",
       "      <td>30.0</td>\n",
       "      <td>0</td>\n",
       "      <td>0</td>\n",
       "      <td>3</td>\n",
       "      <td>0</td>\n",
       "      <td>0</td>\n",
       "      <td>1</td>\n",
       "      <td>0</td>\n",
       "    </tr>\n",
       "    <tr>\n",
       "      <th>4</th>\n",
       "      <td>0</td>\n",
       "      <td>0</td>\n",
       "      <td>1</td>\n",
       "      <td>411</td>\n",
       "      <td>1</td>\n",
       "      <td>0</td>\n",
       "      <td>32.8</td>\n",
       "      <td>0</td>\n",
       "      <td>0</td>\n",
       "      <td>1</td>\n",
       "      <td>0</td>\n",
       "      <td>0</td>\n",
       "      <td>1</td>\n",
       "      <td>0</td>\n",
       "    </tr>\n",
       "  </tbody>\n",
       "</table>\n",
       "</div>"
      ],
      "text/plain": [
       "   tipo_de_sala_0  tipo_de_sala_1  tipo_de_sala_2  id_usuario  genero_0  \\\n",
       "0               0               0               1         650         0   \n",
       "1               0               0               1         234         0   \n",
       "2               0               1               0          31         1   \n",
       "3               0               1               1         552         1   \n",
       "4               0               0               1         411         1   \n",
       "\n",
       "   genero_1  edad  amigos  parientes  precio_ticket  nombre_sede_0  \\\n",
       "0         1  26.0       0          0              1              0   \n",
       "1         1   8.0       4          2              4              0   \n",
       "2         0  43.0       0          0              3              0   \n",
       "3         0  30.0       0          0              3              0   \n",
       "4         0  32.8       0          0              1              0   \n",
       "\n",
       "   nombre_sede_1  nombre_sede_2  cant_acompañantes  \n",
       "0              0              1                  0  \n",
       "1              0              1                  6  \n",
       "2              1              0                  0  \n",
       "3              0              1                  0  \n",
       "4              0              1                  0  "
      ]
     },
     "execution_count": 19,
     "metadata": {},
     "output_type": "execute_result"
    }
   ],
   "source": [
    "df_h = prepod_tp1_un_df(holdout)\n",
    "df_h = replace_nulls_edad(df_h, 'media')\n",
    "df_h = encodear_atributos_categoricos(df_h)\n",
    "df_h = df_h.drop(['volveria'], axis=1)\n",
    "df_h.head()"
   ]
  },
  {
   "cell_type": "code",
   "execution_count": 20,
   "metadata": {},
   "outputs": [
    {
     "data": {
      "text/plain": [
       "array([0, 0, 1, 1, 0, 0, 0, 1, 1, 0, 0, 1, 1, 1, 1, 1, 0, 0, 1, 1, 1, 0,\n",
       "       1, 0, 1, 0, 1, 0, 1, 0, 1, 0, 0, 1, 0, 0, 1, 0, 1, 1, 1, 0, 1, 1,\n",
       "       0, 1, 1, 1, 0, 0, 0, 1, 0, 1, 0, 0, 1, 0, 1, 1, 0, 0, 1, 1, 0, 1,\n",
       "       0, 1, 0, 1, 1, 1, 1, 1, 0, 1, 0, 1, 1, 1, 1, 1, 0, 1, 1, 1, 1, 0,\n",
       "       0, 0])"
      ]
     },
     "execution_count": 20,
     "metadata": {},
     "output_type": "execute_result"
    }
   ],
   "source": [
    "y_pred = boosting.predict(df_h)\n",
    "y_pred"
   ]
  },
  {
   "cell_type": "code",
   "execution_count": 21,
   "metadata": {},
   "outputs": [
    {
     "data": {
      "text/plain": [
       "((90,), (90, 14))"
      ]
     },
     "execution_count": 21,
     "metadata": {},
     "output_type": "execute_result"
    }
   ],
   "source": [
    "(y_pred.shape, df_h.shape)"
   ]
  },
  {
   "cell_type": "code",
   "execution_count": 22,
   "metadata": {},
   "outputs": [
    {
     "data": {
      "text/html": [
       "<div>\n",
       "<style scoped>\n",
       "    .dataframe tbody tr th:only-of-type {\n",
       "        vertical-align: middle;\n",
       "    }\n",
       "\n",
       "    .dataframe tbody tr th {\n",
       "        vertical-align: top;\n",
       "    }\n",
       "\n",
       "    .dataframe thead th {\n",
       "        text-align: right;\n",
       "    }\n",
       "</style>\n",
       "<table border=\"1\" class=\"dataframe\">\n",
       "  <thead>\n",
       "    <tr style=\"text-align: right;\">\n",
       "      <th></th>\n",
       "      <th>volveria</th>\n",
       "    </tr>\n",
       "  </thead>\n",
       "  <tbody>\n",
       "    <tr>\n",
       "      <th>0</th>\n",
       "      <td>0</td>\n",
       "    </tr>\n",
       "    <tr>\n",
       "      <th>1</th>\n",
       "      <td>0</td>\n",
       "    </tr>\n",
       "    <tr>\n",
       "      <th>2</th>\n",
       "      <td>1</td>\n",
       "    </tr>\n",
       "    <tr>\n",
       "      <th>3</th>\n",
       "      <td>1</td>\n",
       "    </tr>\n",
       "    <tr>\n",
       "      <th>4</th>\n",
       "      <td>0</td>\n",
       "    </tr>\n",
       "    <tr>\n",
       "      <th>5</th>\n",
       "      <td>0</td>\n",
       "    </tr>\n",
       "    <tr>\n",
       "      <th>6</th>\n",
       "      <td>0</td>\n",
       "    </tr>\n",
       "    <tr>\n",
       "      <th>7</th>\n",
       "      <td>1</td>\n",
       "    </tr>\n",
       "    <tr>\n",
       "      <th>8</th>\n",
       "      <td>1</td>\n",
       "    </tr>\n",
       "    <tr>\n",
       "      <th>9</th>\n",
       "      <td>0</td>\n",
       "    </tr>\n",
       "  </tbody>\n",
       "</table>\n",
       "</div>"
      ],
      "text/plain": [
       "   volveria\n",
       "0         0\n",
       "1         0\n",
       "2         1\n",
       "3         1\n",
       "4         0\n",
       "5         0\n",
       "6         0\n",
       "7         1\n",
       "8         1\n",
       "9         0"
      ]
     },
     "execution_count": 22,
     "metadata": {},
     "output_type": "execute_result"
    }
   ],
   "source": [
    "serie_predicha = pd.Series(y_pred, name='volveria') \n",
    "serie_predicha = serie_predicha.to_frame()\n",
    "serie_predicha.head(10)"
   ]
  },
  {
   "cell_type": "code",
   "execution_count": 23,
   "metadata": {},
   "outputs": [
    {
     "data": {
      "text/html": [
       "<div>\n",
       "<style scoped>\n",
       "    .dataframe tbody tr th:only-of-type {\n",
       "        vertical-align: middle;\n",
       "    }\n",
       "\n",
       "    .dataframe tbody tr th {\n",
       "        vertical-align: top;\n",
       "    }\n",
       "\n",
       "    .dataframe thead th {\n",
       "        text-align: right;\n",
       "    }\n",
       "</style>\n",
       "<table border=\"1\" class=\"dataframe\">\n",
       "  <thead>\n",
       "    <tr style=\"text-align: right;\">\n",
       "      <th></th>\n",
       "      <th>id_usuario</th>\n",
       "      <th>volveria</th>\n",
       "    </tr>\n",
       "  </thead>\n",
       "  <tbody>\n",
       "    <tr>\n",
       "      <th>0</th>\n",
       "      <td>650</td>\n",
       "      <td>0</td>\n",
       "    </tr>\n",
       "    <tr>\n",
       "      <th>1</th>\n",
       "      <td>234</td>\n",
       "      <td>0</td>\n",
       "    </tr>\n",
       "    <tr>\n",
       "      <th>2</th>\n",
       "      <td>31</td>\n",
       "      <td>1</td>\n",
       "    </tr>\n",
       "    <tr>\n",
       "      <th>3</th>\n",
       "      <td>552</td>\n",
       "      <td>1</td>\n",
       "    </tr>\n",
       "    <tr>\n",
       "      <th>4</th>\n",
       "      <td>411</td>\n",
       "      <td>0</td>\n",
       "    </tr>\n",
       "  </tbody>\n",
       "</table>\n",
       "</div>"
      ],
      "text/plain": [
       "   id_usuario  volveria\n",
       "0         650         0\n",
       "1         234         0\n",
       "2          31         1\n",
       "3         552         1\n",
       "4         411         0"
      ]
     },
     "execution_count": 23,
     "metadata": {},
     "output_type": "execute_result"
    }
   ],
   "source": [
    "df_predicho = holdout.join(serie_predicha, how='inner')\n",
    "cols = ['id_usuario', 'volveria']\n",
    "df_resultado = df_predicho[cols]\n",
    "df_resultado.head()"
   ]
  },
  {
   "cell_type": "code",
   "execution_count": 24,
   "metadata": {},
   "outputs": [
    {
     "data": {
      "text/plain": [
       "(90, 2)"
      ]
     },
     "execution_count": 24,
     "metadata": {},
     "output_type": "execute_result"
    }
   ],
   "source": [
    "df_resultado.shape"
   ]
  },
  {
   "cell_type": "code",
   "execution_count": 25,
   "metadata": {},
   "outputs": [],
   "source": [
    "df_resultado.to_csv('prediccion/Boosting_resultado_final.csv')"
   ]
  },
  {
   "cell_type": "code",
   "execution_count": null,
   "metadata": {},
   "outputs": [],
   "source": []
  },
  {
   "cell_type": "code",
   "execution_count": null,
   "metadata": {},
   "outputs": [],
   "source": []
  }
 ],
 "metadata": {
  "kernelspec": {
   "display_name": "Python 3",
   "language": "python",
   "name": "python3"
  },
  "language_info": {
   "codemirror_mode": {
    "name": "ipython",
    "version": 3
   },
   "file_extension": ".py",
   "mimetype": "text/x-python",
   "name": "python",
   "nbconvert_exporter": "python",
   "pygments_lexer": "ipython3",
   "version": "3.8.3"
  }
 },
 "nbformat": 4,
 "nbformat_minor": 4
}
